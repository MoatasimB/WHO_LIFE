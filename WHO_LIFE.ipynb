{
 "cells": [
  {
   "cell_type": "code",
   "execution_count": 1,
   "id": "02cdda7d",
   "metadata": {},
   "outputs": [],
   "source": [
    "import numpy as np\n",
    "import pandas as pd\n",
    "import seaborn as sns\n",
    "from matplotlib import pyplot as plt\n",
    "from matplotlib import rcParams\n",
    "from sklearn.linear_model import LinearRegression\n",
    "from sklearn.decomposition import PCA\n",
    "from sklearn.model_selection import train_test_split\n",
    "from sklearn.model_selection import RepeatedKFold\n",
    "from sklearn.metrics import mean_squared_error\n",
    "from sklearn.impute import KNNImputer\n",
    "from sklearn.preprocessing import StandardScaler\n",
    "\n",
    "pd.set_option('display.max_columns', None)"
   ]
  },
  {
   "cell_type": "markdown",
   "id": "a96bd6bb",
   "metadata": {},
   "source": [
    "# I. Looking through and cleaning the data."
   ]
  },
  {
   "cell_type": "markdown",
   "id": "a114d1e9",
   "metadata": {},
   "source": [
    "## Part 1: Understanding the data."
   ]
  },
  {
   "cell_type": "code",
   "execution_count": 2,
   "id": "d9234878",
   "metadata": {
    "scrolled": true
   },
   "outputs": [
    {
     "data": {
      "text/html": [
       "<div>\n",
       "<style scoped>\n",
       "    .dataframe tbody tr th:only-of-type {\n",
       "        vertical-align: middle;\n",
       "    }\n",
       "\n",
       "    .dataframe tbody tr th {\n",
       "        vertical-align: top;\n",
       "    }\n",
       "\n",
       "    .dataframe thead th {\n",
       "        text-align: right;\n",
       "    }\n",
       "</style>\n",
       "<table border=\"1\" class=\"dataframe\">\n",
       "  <thead>\n",
       "    <tr style=\"text-align: right;\">\n",
       "      <th></th>\n",
       "      <th>Country</th>\n",
       "      <th>Year</th>\n",
       "      <th>Status</th>\n",
       "      <th>Life expectancy</th>\n",
       "      <th>Adult Mortality</th>\n",
       "      <th>infant deaths</th>\n",
       "      <th>Alcohol</th>\n",
       "      <th>percentage expenditure</th>\n",
       "      <th>Hepatitis B</th>\n",
       "      <th>Measles</th>\n",
       "      <th>BMI</th>\n",
       "      <th>under-five deaths</th>\n",
       "      <th>Polio</th>\n",
       "      <th>Total expenditure</th>\n",
       "      <th>Diphtheria</th>\n",
       "      <th>HIV/AIDS</th>\n",
       "      <th>GDP</th>\n",
       "      <th>Population</th>\n",
       "      <th>thinness  1-19 years</th>\n",
       "      <th>thinness 5-9 years</th>\n",
       "      <th>Income composition of resources</th>\n",
       "      <th>Schooling</th>\n",
       "    </tr>\n",
       "  </thead>\n",
       "  <tbody>\n",
       "    <tr>\n",
       "      <th>0</th>\n",
       "      <td>Afghanistan</td>\n",
       "      <td>2015</td>\n",
       "      <td>Developing</td>\n",
       "      <td>65.0</td>\n",
       "      <td>263.0</td>\n",
       "      <td>62</td>\n",
       "      <td>0.01</td>\n",
       "      <td>71.279624</td>\n",
       "      <td>65.0</td>\n",
       "      <td>1154</td>\n",
       "      <td>19.1</td>\n",
       "      <td>83</td>\n",
       "      <td>6.0</td>\n",
       "      <td>8.16</td>\n",
       "      <td>65.0</td>\n",
       "      <td>0.1</td>\n",
       "      <td>584.259210</td>\n",
       "      <td>33736494.0</td>\n",
       "      <td>17.2</td>\n",
       "      <td>17.3</td>\n",
       "      <td>0.479</td>\n",
       "      <td>10.1</td>\n",
       "    </tr>\n",
       "    <tr>\n",
       "      <th>1</th>\n",
       "      <td>Afghanistan</td>\n",
       "      <td>2014</td>\n",
       "      <td>Developing</td>\n",
       "      <td>59.9</td>\n",
       "      <td>271.0</td>\n",
       "      <td>64</td>\n",
       "      <td>0.01</td>\n",
       "      <td>73.523582</td>\n",
       "      <td>62.0</td>\n",
       "      <td>492</td>\n",
       "      <td>18.6</td>\n",
       "      <td>86</td>\n",
       "      <td>58.0</td>\n",
       "      <td>8.18</td>\n",
       "      <td>62.0</td>\n",
       "      <td>0.1</td>\n",
       "      <td>612.696514</td>\n",
       "      <td>327582.0</td>\n",
       "      <td>17.5</td>\n",
       "      <td>17.5</td>\n",
       "      <td>0.476</td>\n",
       "      <td>10.0</td>\n",
       "    </tr>\n",
       "    <tr>\n",
       "      <th>2</th>\n",
       "      <td>Afghanistan</td>\n",
       "      <td>2013</td>\n",
       "      <td>Developing</td>\n",
       "      <td>59.9</td>\n",
       "      <td>268.0</td>\n",
       "      <td>66</td>\n",
       "      <td>0.01</td>\n",
       "      <td>73.219243</td>\n",
       "      <td>64.0</td>\n",
       "      <td>430</td>\n",
       "      <td>18.1</td>\n",
       "      <td>89</td>\n",
       "      <td>62.0</td>\n",
       "      <td>8.13</td>\n",
       "      <td>64.0</td>\n",
       "      <td>0.1</td>\n",
       "      <td>631.744976</td>\n",
       "      <td>31731688.0</td>\n",
       "      <td>17.7</td>\n",
       "      <td>17.7</td>\n",
       "      <td>0.470</td>\n",
       "      <td>9.9</td>\n",
       "    </tr>\n",
       "    <tr>\n",
       "      <th>3</th>\n",
       "      <td>Afghanistan</td>\n",
       "      <td>2012</td>\n",
       "      <td>Developing</td>\n",
       "      <td>59.5</td>\n",
       "      <td>272.0</td>\n",
       "      <td>69</td>\n",
       "      <td>0.01</td>\n",
       "      <td>78.184215</td>\n",
       "      <td>67.0</td>\n",
       "      <td>2787</td>\n",
       "      <td>17.6</td>\n",
       "      <td>93</td>\n",
       "      <td>67.0</td>\n",
       "      <td>8.52</td>\n",
       "      <td>67.0</td>\n",
       "      <td>0.1</td>\n",
       "      <td>669.959000</td>\n",
       "      <td>3696958.0</td>\n",
       "      <td>17.9</td>\n",
       "      <td>18.0</td>\n",
       "      <td>0.463</td>\n",
       "      <td>9.8</td>\n",
       "    </tr>\n",
       "    <tr>\n",
       "      <th>4</th>\n",
       "      <td>Afghanistan</td>\n",
       "      <td>2011</td>\n",
       "      <td>Developing</td>\n",
       "      <td>59.2</td>\n",
       "      <td>275.0</td>\n",
       "      <td>71</td>\n",
       "      <td>0.01</td>\n",
       "      <td>7.097109</td>\n",
       "      <td>68.0</td>\n",
       "      <td>3013</td>\n",
       "      <td>17.2</td>\n",
       "      <td>97</td>\n",
       "      <td>68.0</td>\n",
       "      <td>7.87</td>\n",
       "      <td>68.0</td>\n",
       "      <td>0.1</td>\n",
       "      <td>63.537231</td>\n",
       "      <td>2978599.0</td>\n",
       "      <td>18.2</td>\n",
       "      <td>18.2</td>\n",
       "      <td>0.454</td>\n",
       "      <td>9.5</td>\n",
       "    </tr>\n",
       "  </tbody>\n",
       "</table>\n",
       "</div>"
      ],
      "text/plain": [
       "       Country  Year      Status  Life expectancy   Adult Mortality  \\\n",
       "0  Afghanistan  2015  Developing              65.0            263.0   \n",
       "1  Afghanistan  2014  Developing              59.9            271.0   \n",
       "2  Afghanistan  2013  Developing              59.9            268.0   \n",
       "3  Afghanistan  2012  Developing              59.5            272.0   \n",
       "4  Afghanistan  2011  Developing              59.2            275.0   \n",
       "\n",
       "   infant deaths  Alcohol  percentage expenditure  Hepatitis B  Measles   \\\n",
       "0             62     0.01               71.279624         65.0      1154   \n",
       "1             64     0.01               73.523582         62.0       492   \n",
       "2             66     0.01               73.219243         64.0       430   \n",
       "3             69     0.01               78.184215         67.0      2787   \n",
       "4             71     0.01                7.097109         68.0      3013   \n",
       "\n",
       "    BMI   under-five deaths   Polio  Total expenditure  Diphtheria   \\\n",
       "0   19.1                  83    6.0               8.16         65.0   \n",
       "1   18.6                  86   58.0               8.18         62.0   \n",
       "2   18.1                  89   62.0               8.13         64.0   \n",
       "3   17.6                  93   67.0               8.52         67.0   \n",
       "4   17.2                  97   68.0               7.87         68.0   \n",
       "\n",
       "    HIV/AIDS         GDP  Population   thinness  1-19 years  \\\n",
       "0        0.1  584.259210  33736494.0                   17.2   \n",
       "1        0.1  612.696514    327582.0                   17.5   \n",
       "2        0.1  631.744976  31731688.0                   17.7   \n",
       "3        0.1  669.959000   3696958.0                   17.9   \n",
       "4        0.1   63.537231   2978599.0                   18.2   \n",
       "\n",
       "    thinness 5-9 years  Income composition of resources  Schooling  \n",
       "0                 17.3                            0.479       10.1  \n",
       "1                 17.5                            0.476       10.0  \n",
       "2                 17.7                            0.470        9.9  \n",
       "3                 18.0                            0.463        9.8  \n",
       "4                 18.2                            0.454        9.5  "
      ]
     },
     "execution_count": 2,
     "metadata": {},
     "output_type": "execute_result"
    }
   ],
   "source": [
    "# Reading 'Life Expectancy Data.csv' into a DataFrame\n",
    "path_to_file = '/Users/moatb/Desktop/M/Datasets/Life Expectancy Data.csv'\n",
    "life_expectancy_df = pd.read_csv(path_to_file)\n",
    "life_expectancy_df.head()"
   ]
  },
  {
   "cell_type": "code",
   "execution_count": 3,
   "id": "48413b43",
   "metadata": {},
   "outputs": [
    {
     "name": "stdout",
     "output_type": "stream",
     "text": [
      "<class 'pandas.core.frame.DataFrame'>\n",
      "RangeIndex: 2938 entries, 0 to 2937\n",
      "Data columns (total 22 columns):\n",
      " #   Column                           Non-Null Count  Dtype  \n",
      "---  ------                           --------------  -----  \n",
      " 0   Country                          2938 non-null   object \n",
      " 1   Year                             2938 non-null   int64  \n",
      " 2   Status                           2938 non-null   object \n",
      " 3   Life expectancy                  2928 non-null   float64\n",
      " 4   Adult Mortality                  2928 non-null   float64\n",
      " 5   infant deaths                    2938 non-null   int64  \n",
      " 6   Alcohol                          2744 non-null   float64\n",
      " 7   percentage expenditure           2938 non-null   float64\n",
      " 8   Hepatitis B                      2385 non-null   float64\n",
      " 9   Measles                          2938 non-null   int64  \n",
      " 10   BMI                             2904 non-null   float64\n",
      " 11  under-five deaths                2938 non-null   int64  \n",
      " 12  Polio                            2919 non-null   float64\n",
      " 13  Total expenditure                2712 non-null   float64\n",
      " 14  Diphtheria                       2919 non-null   float64\n",
      " 15   HIV/AIDS                        2938 non-null   float64\n",
      " 16  GDP                              2490 non-null   float64\n",
      " 17  Population                       2286 non-null   float64\n",
      " 18   thinness  1-19 years            2904 non-null   float64\n",
      " 19   thinness 5-9 years              2904 non-null   float64\n",
      " 20  Income composition of resources  2771 non-null   float64\n",
      " 21  Schooling                        2775 non-null   float64\n",
      "dtypes: float64(16), int64(4), object(2)\n",
      "memory usage: 505.1+ KB\n"
     ]
    }
   ],
   "source": [
    "# A short summary of the DataFrame\n",
    "life_expectancy_df.info()"
   ]
  },
  {
   "cell_type": "code",
   "execution_count": 4,
   "id": "1d74d3be",
   "metadata": {},
   "outputs": [
    {
     "data": {
      "text/plain": [
       "array(['Developing', 'Developed'], dtype=object)"
      ]
     },
     "execution_count": 4,
     "metadata": {},
     "output_type": "execute_result"
    }
   ],
   "source": [
    "# Checking the possible values that 'Status' can have\n",
    "life_expectancy_df['Status'].unique()"
   ]
  },
  {
   "cell_type": "code",
   "execution_count": 5,
   "id": "a6d51405",
   "metadata": {
    "scrolled": false
   },
   "outputs": [
    {
     "data": {
      "text/plain": [
       "Population                         652\n",
       "Hepatitis B                        553\n",
       "GDP                                448\n",
       "Total expenditure                  226\n",
       "Alcohol                            194\n",
       "Income composition of resources    167\n",
       "Schooling                          163\n",
       " thinness 5-9 years                 34\n",
       " thinness  1-19 years               34\n",
       " BMI                                34\n",
       "Polio                               19\n",
       "Diphtheria                          19\n",
       "Life expectancy                     10\n",
       "Adult Mortality                     10\n",
       " HIV/AIDS                            0\n",
       "Country                              0\n",
       "Year                                 0\n",
       "Measles                              0\n",
       "percentage expenditure               0\n",
       "infant deaths                        0\n",
       "Status                               0\n",
       "under-five deaths                    0\n",
       "dtype: int64"
      ]
     },
     "execution_count": 5,
     "metadata": {},
     "output_type": "execute_result"
    }
   ],
   "source": [
    "# Checking for missing values\n",
    "life_expectancy_df.isna().sum().sort_values(ascending=False)"
   ]
  },
  {
   "cell_type": "code",
   "execution_count": 6,
   "id": "f8e089fe",
   "metadata": {},
   "outputs": [],
   "source": [
    "# Removing the extra white spaces\n",
    "life_expectancy_df.columns = life_expectancy_df.columns.str.strip()\n",
    "\n",
    "# Dropping the rows that are missing life expectancy\n",
    "life_expectancy_df.dropna(axis=0, subset=['Life expectancy'], inplace=True)\n",
    "\n",
    "# Turning 'Status' column into a dummy variable.\n",
    "life_expectancy_df = pd.get_dummies(data=life_expectancy_df, columns=['Status'], drop_first=True)"
   ]
  },
  {
   "cell_type": "markdown",
   "id": "d84312ed",
   "metadata": {},
   "source": [
    "To make the data a bit neater while looking through it, I reformatted the column names to get rid of the unnecessary white spaces.\n",
    "\n",
    "I removed the rows that were missing life expectancy as well in order to keep the analysis of the data consistent with the regressions that will be performed, which will not be able to utilize the rows that are missing life expectancy (since it is the target variable).\n",
    "\n",
    "I also noted that all of the columns have data types of float or int except 'Country' and 'Status'. Since 'Status' has two possible values ['Developing', 'Developed'], it is more meaningful to convert it into a dummy variable. "
   ]
  },
  {
   "cell_type": "code",
   "execution_count": 7,
   "id": "51428d2d",
   "metadata": {},
   "outputs": [
    {
     "data": {
      "text/plain": [
       "Life expectancy                    1.000000\n",
       "Schooling                          0.751975\n",
       "Income composition of resources    0.724776\n",
       "Adult Mortality                    0.696359\n",
       "BMI                                0.567694\n",
       "HIV/AIDS                           0.556556\n",
       "Status_Developing                  0.482136\n",
       "Diphtheria                         0.479495\n",
       "thinness  1-19 years               0.477183\n",
       "thinness 5-9 years                 0.471584\n",
       "Polio                              0.465556\n",
       "GDP                                0.461455\n",
       "Alcohol                            0.404877\n",
       "percentage expenditure             0.381864\n",
       "Hepatitis B                        0.256762\n",
       "under-five deaths                  0.222529\n",
       "Total expenditure                  0.218086\n",
       "infant deaths                      0.196557\n",
       "Year                               0.170033\n",
       "Measles                            0.157586\n",
       "Population                         0.021538\n",
       "dtype: float64"
      ]
     },
     "execution_count": 7,
     "metadata": {},
     "output_type": "execute_result"
    }
   ],
   "source": [
    "# Looking at the correlation between 'Life expectancy' and all the columns in the DataFrame\n",
    "life_expectancy_df.corrwith(life_expectancy_df['Life expectancy']).abs().sort_values(ascending=False)"
   ]
  },
  {
   "cell_type": "markdown",
   "id": "f458b6f0",
   "metadata": {},
   "source": [
    "Based on the correlations to 'Life expectancy', it would seem that the top regressors are 'Schooling', 'Income composition of resources', 'Adult Mortality', 'BMI', 'HIV/AIDS', and 'Status_Developing'. It also seems that 'Population' is not a good regressor for 'Life expectancy'."
   ]
  },
  {
   "cell_type": "code",
   "execution_count": 8,
   "id": "5010a4ce",
   "metadata": {
    "scrolled": false
   },
   "outputs": [
    {
     "data": {
      "text/html": [
       "<div>\n",
       "<style scoped>\n",
       "    .dataframe tbody tr th:only-of-type {\n",
       "        vertical-align: middle;\n",
       "    }\n",
       "\n",
       "    .dataframe tbody tr th {\n",
       "        vertical-align: top;\n",
       "    }\n",
       "\n",
       "    .dataframe thead th {\n",
       "        text-align: right;\n",
       "    }\n",
       "</style>\n",
       "<table border=\"1\" class=\"dataframe\">\n",
       "  <thead>\n",
       "    <tr style=\"text-align: right;\">\n",
       "      <th>Status_Developing</th>\n",
       "      <th>0</th>\n",
       "      <th>1</th>\n",
       "    </tr>\n",
       "  </thead>\n",
       "  <tbody>\n",
       "    <tr>\n",
       "      <th>Population</th>\n",
       "      <td>96</td>\n",
       "      <td>548</td>\n",
       "    </tr>\n",
       "    <tr>\n",
       "      <th>Hepatitis B</th>\n",
       "      <td>173</td>\n",
       "      <td>380</td>\n",
       "    </tr>\n",
       "    <tr>\n",
       "      <th>GDP</th>\n",
       "      <td>64</td>\n",
       "      <td>379</td>\n",
       "    </tr>\n",
       "    <tr>\n",
       "      <th>Total expenditure</th>\n",
       "      <td>32</td>\n",
       "      <td>194</td>\n",
       "    </tr>\n",
       "    <tr>\n",
       "      <th>Alcohol</th>\n",
       "      <td>28</td>\n",
       "      <td>165</td>\n",
       "    </tr>\n",
       "    <tr>\n",
       "      <th>Income composition of resources</th>\n",
       "      <td>48</td>\n",
       "      <td>112</td>\n",
       "    </tr>\n",
       "    <tr>\n",
       "      <th>Schooling</th>\n",
       "      <td>48</td>\n",
       "      <td>112</td>\n",
       "    </tr>\n",
       "    <tr>\n",
       "      <th>BMI</th>\n",
       "      <td>0</td>\n",
       "      <td>32</td>\n",
       "    </tr>\n",
       "    <tr>\n",
       "      <th>thinness  1-19 years</th>\n",
       "      <td>0</td>\n",
       "      <td>32</td>\n",
       "    </tr>\n",
       "    <tr>\n",
       "      <th>thinness 5-9 years</th>\n",
       "      <td>0</td>\n",
       "      <td>32</td>\n",
       "    </tr>\n",
       "    <tr>\n",
       "      <th>Polio</th>\n",
       "      <td>0</td>\n",
       "      <td>19</td>\n",
       "    </tr>\n",
       "    <tr>\n",
       "      <th>Diphtheria</th>\n",
       "      <td>0</td>\n",
       "      <td>19</td>\n",
       "    </tr>\n",
       "    <tr>\n",
       "      <th>Country</th>\n",
       "      <td>0</td>\n",
       "      <td>0</td>\n",
       "    </tr>\n",
       "    <tr>\n",
       "      <th>Year</th>\n",
       "      <td>0</td>\n",
       "      <td>0</td>\n",
       "    </tr>\n",
       "    <tr>\n",
       "      <th>Life expectancy</th>\n",
       "      <td>0</td>\n",
       "      <td>0</td>\n",
       "    </tr>\n",
       "    <tr>\n",
       "      <th>Adult Mortality</th>\n",
       "      <td>0</td>\n",
       "      <td>0</td>\n",
       "    </tr>\n",
       "    <tr>\n",
       "      <th>infant deaths</th>\n",
       "      <td>0</td>\n",
       "      <td>0</td>\n",
       "    </tr>\n",
       "    <tr>\n",
       "      <th>percentage expenditure</th>\n",
       "      <td>0</td>\n",
       "      <td>0</td>\n",
       "    </tr>\n",
       "    <tr>\n",
       "      <th>Measles</th>\n",
       "      <td>0</td>\n",
       "      <td>0</td>\n",
       "    </tr>\n",
       "    <tr>\n",
       "      <th>under-five deaths</th>\n",
       "      <td>0</td>\n",
       "      <td>0</td>\n",
       "    </tr>\n",
       "    <tr>\n",
       "      <th>HIV/AIDS</th>\n",
       "      <td>0</td>\n",
       "      <td>0</td>\n",
       "    </tr>\n",
       "  </tbody>\n",
       "</table>\n",
       "</div>"
      ],
      "text/plain": [
       "Status_Developing                  0    1\n",
       "Population                        96  548\n",
       "Hepatitis B                      173  380\n",
       "GDP                               64  379\n",
       "Total expenditure                 32  194\n",
       "Alcohol                           28  165\n",
       "Income composition of resources   48  112\n",
       "Schooling                         48  112\n",
       "BMI                                0   32\n",
       "thinness  1-19 years               0   32\n",
       "thinness 5-9 years                 0   32\n",
       "Polio                              0   19\n",
       "Diphtheria                         0   19\n",
       "Country                            0    0\n",
       "Year                               0    0\n",
       "Life expectancy                    0    0\n",
       "Adult Mortality                    0    0\n",
       "infant deaths                      0    0\n",
       "percentage expenditure             0    0\n",
       "Measles                            0    0\n",
       "under-five deaths                  0    0\n",
       "HIV/AIDS                           0    0"
      ]
     },
     "execution_count": 8,
     "metadata": {},
     "output_type": "execute_result"
    }
   ],
   "source": [
    "# Comparing the number of missing values in Developed countries (0) vs Developing countries (1)\n",
    "life_expectancy_df.groupby('Status_Developing').agg(lambda x: x.isna().sum()).T.sort_values(ascending=False, by=[1, 0])"
   ]
  },
  {
   "cell_type": "markdown",
   "id": "9818d3df",
   "metadata": {},
   "source": [
    "Note: A lot of the missing values in each column are from rows of developing countries rather than developed countries."
   ]
  },
  {
   "cell_type": "code",
   "execution_count": 9,
   "id": "69ec7ea6",
   "metadata": {
    "scrolled": true
   },
   "outputs": [
    {
     "data": {
      "text/html": [
       "<div>\n",
       "<style scoped>\n",
       "    .dataframe tbody tr th:only-of-type {\n",
       "        vertical-align: middle;\n",
       "    }\n",
       "\n",
       "    .dataframe tbody tr th {\n",
       "        vertical-align: top;\n",
       "    }\n",
       "\n",
       "    .dataframe thead th {\n",
       "        text-align: right;\n",
       "    }\n",
       "</style>\n",
       "<table border=\"1\" class=\"dataframe\">\n",
       "  <thead>\n",
       "    <tr style=\"text-align: right;\">\n",
       "      <th></th>\n",
       "      <th>Country</th>\n",
       "      <th>Year</th>\n",
       "      <th>Life expectancy</th>\n",
       "      <th>Adult Mortality</th>\n",
       "      <th>infant deaths</th>\n",
       "      <th>Alcohol</th>\n",
       "      <th>percentage expenditure</th>\n",
       "      <th>Hepatitis B</th>\n",
       "      <th>Measles</th>\n",
       "      <th>BMI</th>\n",
       "      <th>under-five deaths</th>\n",
       "      <th>Polio</th>\n",
       "      <th>Total expenditure</th>\n",
       "      <th>Diphtheria</th>\n",
       "      <th>HIV/AIDS</th>\n",
       "      <th>GDP</th>\n",
       "      <th>Population</th>\n",
       "      <th>thinness  1-19 years</th>\n",
       "      <th>thinness 5-9 years</th>\n",
       "      <th>Income composition of resources</th>\n",
       "      <th>Schooling</th>\n",
       "      <th>Status_Developing</th>\n",
       "    </tr>\n",
       "  </thead>\n",
       "  <tbody>\n",
       "  </tbody>\n",
       "</table>\n",
       "</div>"
      ],
      "text/plain": [
       "Empty DataFrame\n",
       "Columns: [Country, Year, Life expectancy, Adult Mortality, infant deaths, Alcohol, percentage expenditure, Hepatitis B, Measles, BMI, under-five deaths, Polio, Total expenditure, Diphtheria, HIV/AIDS, GDP, Population, thinness  1-19 years, thinness 5-9 years, Income composition of resources, Schooling, Status_Developing]\n",
       "Index: []"
      ]
     },
     "execution_count": 9,
     "metadata": {},
     "output_type": "execute_result"
    }
   ],
   "source": [
    "# Ensuring that all countries have 16 years of data\n",
    "life_expectancy_df.groupby('Country').filter(lambda x: x['Year'].count() < 16) # empty dataset"
   ]
  },
  {
   "cell_type": "markdown",
   "id": "7eeb7c1b",
   "metadata": {},
   "source": [
    "## Part 2: Visualizing the data."
   ]
  },
  {
   "cell_type": "markdown",
   "id": "5c504c3c",
   "metadata": {},
   "source": [
    "The densities of the top possible regressors provide an overview of the columns' data. Plotting them will display if the regressors of interest are skewed or have outliers."
   ]
  },
  {
   "cell_type": "code",
   "execution_count": 10,
   "id": "825b3745",
   "metadata": {
    "scrolled": false
   },
   "outputs": [
    {
     "data": {
      "image/png": "[encoded data removed]",
      "text/plain": [
       "<Figure size 640x480 with 6 Axes>"
      ]
     },
     "metadata": {},
     "output_type": "display_data"
    }
   ],
   "source": [
    "fig, ax = plt.subplots(3, 2)\n",
    "plt.rcParams[\"figure.figsize\"] = [9, 6]\n",
    "plt.rcParams[\"figure.autolayout\"] = True\n",
    "\n",
    "feature = 'Schooling'\n",
    "ave = life_expectancy_df[feature].mean()\n",
    "sd = life_expectancy_df[feature].std()\n",
    "sns.kdeplot(data=life_expectancy_df, x=feature, fill=True, alpha=0.3, legend=True, color='darkgreen', ax=ax[0,0]);\n",
    "sns.kdeplot(x=np.random.normal(loc=ave, scale=sd, size=100000), fill=True, alpha=0.2, color='purple', ax=ax[0,0]);\n",
    "\n",
    "feature = 'Income composition of resources'\n",
    "ave = life_expectancy_df[feature].mean()\n",
    "sd = life_expectancy_df[feature].std()\n",
    "sns.kdeplot(data=life_expectancy_df, x=feature, fill=True, alpha=0.3, legend=True, color='darkgreen', ax=ax[0,1]);\n",
    "sns.kdeplot(x=np.random.normal(loc=ave, scale=sd, size=100000), fill=True, alpha=0.2, color='purple', ax=ax[0,1]);\n",
    "\n",
    "feature = 'Adult Mortality'\n",
    "ave = life_expectancy_df[feature].mean()\n",
    "sd = life_expectancy_df[feature].std()\n",
    "sns.kdeplot(data=life_expectancy_df, x=feature, fill=True, alpha=0.3, legend=True, color='darkgreen', ax=ax[1,0]);\n",
    "sns.kdeplot(x=np.random.normal(loc=ave, scale=sd, size=100000), fill=True, alpha=0.2, color='purple', ax=ax[1,0]);\n",
    "\n",
    "feature = 'BMI'\n",
    "ave = life_expectancy_df[feature].mean()\n",
    "sd = life_expectancy_df[feature].std()\n",
    "sns.kdeplot(data=life_expectancy_df, x=feature, fill=True, alpha=0.3, legend=True, color='darkgreen', ax=ax[1,1]);\n",
    "sns.kdeplot(x=np.random.normal(loc=ave, scale=sd, size=100000), fill=True, alpha=0.2, color='purple', ax=ax[1,1]);\n",
    "\n",
    "feature = 'HIV/AIDS'\n",
    "ave = life_expectancy_df[feature].mean()\n",
    "sd = life_expectancy_df[feature].std()\n",
    "sns.kdeplot(data=life_expectancy_df, x=feature, fill=True, alpha=0.3, legend=True, color='darkgreen', ax=ax[2,0]);\n",
    "sns.kdeplot(x=np.random.normal(loc=ave, scale=sd, size=100000), fill=True, alpha=0.2, color='purple', ax=ax[2,0]);\n",
    "\n",
    "feature = 'Diphtheria'\n",
    "ave = life_expectancy_df[feature].mean()\n",
    "sd = life_expectancy_df[feature].std()\n",
    "sns.kdeplot(data=life_expectancy_df, x=feature, fill=True, alpha=0.3, legend=True, color='darkgreen', ax=ax[2,1]);\n",
    "sns.kdeplot(x=np.random.normal(loc=ave, scale=sd, size=100000), fill=True, alpha=0.2, color='purple', ax=ax[2,1]);\n"
   ]
  },
  {
   "cell_type": "markdown",
   "id": "7e9aedc7",
   "metadata": {},
   "source": [
    "Based on the density plots, 'Schooling' will be a good regressor to work with even though it is slightly skewed. The distribution of 'BMI' is bimodal, and 'Income composition of reources' also has multiple peaks, which may make these features a little difficult to work with in a simple linear regression model."
   ]
  },
  {
   "cell_type": "markdown",
   "id": "a9fd8974",
   "metadata": {},
   "source": [
    "## Part 3: Putting all the data cleaning into one function."
   ]
  },
  {
   "cell_type": "code",
   "execution_count": 11,
   "id": "53776546",
   "metadata": {},
   "outputs": [],
   "source": [
    "def life_expectancy():\n",
    "    \n",
    "    path_to_file = '/Users/moatb/Desktop/M/Datasets/Life Expectancy Data.csv'\n",
    "    life_expectancy_df = pd.read_csv(path_to_file)\n",
    "    \n",
    "    # Removing unnecessary white spaces\n",
    "    life_expectancy_df.columns = life_expectancy_df.columns.str.strip().str.lower()\n",
    "    # Renaming specific columns to be more concise\n",
    "    life_expectancy_df.rename(columns={'percentage expenditure': 'per_expend',\n",
    "                                       'hepatitis b': 'hep_b',\n",
    "                                       'total expenditure': 'total_expend',\n",
    "                                       'income composition of resources': 'icr',\n",
    "                                       'hiv/aids': 'hiv_aids',\n",
    "                                       'thinness 5-9 years': 'thin 5-9 years',\n",
    "                                       'thinness  1-19 years': 'thin 1-19 years'}, inplace=True)\n",
    "    # Reformatting column names\n",
    "    life_expectancy_df.columns = life_expectancy_df.columns.str.replace(\" \", \"_\", regex=False)\n",
    "    \n",
    "    # Removing rows that are missing life expectancy rows\n",
    "    life_expectancy_df.dropna(axis=0, subset=['life_expectancy'], inplace=True)\n",
    "    \n",
    "    # Changing the 'country' column dtype to 'category'\n",
    "    life_expectancy_df['country'] = life_expectancy_df['country'].astype('category')\n",
    "\n",
    "    # Converting 'status' column into a dummy variable\n",
    "    life_expectancy_df = pd.get_dummies(data=life_expectancy_df, columns=['status'], drop_first=True)\n",
    "    life_expectancy_df.rename(columns={'status_Developing': 'status'}, inplace=True)\n",
    "\n",
    "    # Getting rid of 'population' column\n",
    "    life_expectancy_df.drop(columns=['population'], inplace=True)\n",
    "    \n",
    "    # Sorting by status (descending), country name (ascending), year (descending)\n",
    "    life_expectancy_df = life_expectancy_df.sort_values(by=['status', 'country', 'year'], \n",
    "                                                        ascending=[False, True, False])\n",
    "    \n",
    "    return life_expectancy_df\n",
    "\n",
    "preprocessed_df = life_expectancy()"
   ]
  },
  {
   "cell_type": "markdown",
   "id": "8dcb4165",
   "metadata": {},
   "source": [
    "I included all of the data cleaning that was done thus far under one function, and I also changed the data type of 'country' from object to category to signal to Python that it is a categorical variable. Additionally, I removed the 'population' column because it had the lowest correlation to life expectancy as well as having the most missing values out of all the columns."
   ]
  },
  {
   "cell_type": "code",
   "execution_count": 12,
   "id": "ac41bacf",
   "metadata": {
    "scrolled": false
   },
   "outputs": [
    {
     "data": {
      "text/html": [
       "<div>\n",
       "<style scoped>\n",
       "    .dataframe tbody tr th:only-of-type {\n",
       "        vertical-align: middle;\n",
       "    }\n",
       "\n",
       "    .dataframe tbody tr th {\n",
       "        vertical-align: top;\n",
       "    }\n",
       "\n",
       "    .dataframe thead th {\n",
       "        text-align: right;\n",
       "    }\n",
       "</style>\n",
       "<table border=\"1\" class=\"dataframe\">\n",
       "  <thead>\n",
       "    <tr style=\"text-align: right;\">\n",
       "      <th></th>\n",
       "      <th>country</th>\n",
       "      <th>year</th>\n",
       "      <th>life_expectancy</th>\n",
       "      <th>adult_mortality</th>\n",
       "      <th>infant_deaths</th>\n",
       "      <th>alcohol</th>\n",
       "      <th>per_expend</th>\n",
       "      <th>hep_b</th>\n",
       "      <th>measles</th>\n",
       "      <th>bmi</th>\n",
       "      <th>under-five_deaths</th>\n",
       "      <th>polio</th>\n",
       "      <th>total_expend</th>\n",
       "      <th>diphtheria</th>\n",
       "      <th>hiv_aids</th>\n",
       "      <th>gdp</th>\n",
       "      <th>thin_1-19_years</th>\n",
       "      <th>thin_5-9_years</th>\n",
       "      <th>icr</th>\n",
       "      <th>schooling</th>\n",
       "      <th>status</th>\n",
       "    </tr>\n",
       "  </thead>\n",
       "  <tbody>\n",
       "    <tr>\n",
       "      <th>0</th>\n",
       "      <td>Afghanistan</td>\n",
       "      <td>2015</td>\n",
       "      <td>65.0</td>\n",
       "      <td>263.0</td>\n",
       "      <td>62</td>\n",
       "      <td>0.01</td>\n",
       "      <td>71.279624</td>\n",
       "      <td>65.0</td>\n",
       "      <td>1154</td>\n",
       "      <td>19.1</td>\n",
       "      <td>83</td>\n",
       "      <td>6.0</td>\n",
       "      <td>8.16</td>\n",
       "      <td>65.0</td>\n",
       "      <td>0.1</td>\n",
       "      <td>584.259210</td>\n",
       "      <td>17.2</td>\n",
       "      <td>17.3</td>\n",
       "      <td>0.479</td>\n",
       "      <td>10.1</td>\n",
       "      <td>1</td>\n",
       "    </tr>\n",
       "    <tr>\n",
       "      <th>1</th>\n",
       "      <td>Afghanistan</td>\n",
       "      <td>2014</td>\n",
       "      <td>59.9</td>\n",
       "      <td>271.0</td>\n",
       "      <td>64</td>\n",
       "      <td>0.01</td>\n",
       "      <td>73.523582</td>\n",
       "      <td>62.0</td>\n",
       "      <td>492</td>\n",
       "      <td>18.6</td>\n",
       "      <td>86</td>\n",
       "      <td>58.0</td>\n",
       "      <td>8.18</td>\n",
       "      <td>62.0</td>\n",
       "      <td>0.1</td>\n",
       "      <td>612.696514</td>\n",
       "      <td>17.5</td>\n",
       "      <td>17.5</td>\n",
       "      <td>0.476</td>\n",
       "      <td>10.0</td>\n",
       "      <td>1</td>\n",
       "    </tr>\n",
       "    <tr>\n",
       "      <th>2</th>\n",
       "      <td>Afghanistan</td>\n",
       "      <td>2013</td>\n",
       "      <td>59.9</td>\n",
       "      <td>268.0</td>\n",
       "      <td>66</td>\n",
       "      <td>0.01</td>\n",
       "      <td>73.219243</td>\n",
       "      <td>64.0</td>\n",
       "      <td>430</td>\n",
       "      <td>18.1</td>\n",
       "      <td>89</td>\n",
       "      <td>62.0</td>\n",
       "      <td>8.13</td>\n",
       "      <td>64.0</td>\n",
       "      <td>0.1</td>\n",
       "      <td>631.744976</td>\n",
       "      <td>17.7</td>\n",
       "      <td>17.7</td>\n",
       "      <td>0.470</td>\n",
       "      <td>9.9</td>\n",
       "      <td>1</td>\n",
       "    </tr>\n",
       "    <tr>\n",
       "      <th>3</th>\n",
       "      <td>Afghanistan</td>\n",
       "      <td>2012</td>\n",
       "      <td>59.5</td>\n",
       "      <td>272.0</td>\n",
       "      <td>69</td>\n",
       "      <td>0.01</td>\n",
       "      <td>78.184215</td>\n",
       "      <td>67.0</td>\n",
       "      <td>2787</td>\n",
       "      <td>17.6</td>\n",
       "      <td>93</td>\n",
       "      <td>67.0</td>\n",
       "      <td>8.52</td>\n",
       "      <td>67.0</td>\n",
       "      <td>0.1</td>\n",
       "      <td>669.959000</td>\n",
       "      <td>17.9</td>\n",
       "      <td>18.0</td>\n",
       "      <td>0.463</td>\n",
       "      <td>9.8</td>\n",
       "      <td>1</td>\n",
       "    </tr>\n",
       "    <tr>\n",
       "      <th>4</th>\n",
       "      <td>Afghanistan</td>\n",
       "      <td>2011</td>\n",
       "      <td>59.2</td>\n",
       "      <td>275.0</td>\n",
       "      <td>71</td>\n",
       "      <td>0.01</td>\n",
       "      <td>7.097109</td>\n",
       "      <td>68.0</td>\n",
       "      <td>3013</td>\n",
       "      <td>17.2</td>\n",
       "      <td>97</td>\n",
       "      <td>68.0</td>\n",
       "      <td>7.87</td>\n",
       "      <td>68.0</td>\n",
       "      <td>0.1</td>\n",
       "      <td>63.537231</td>\n",
       "      <td>18.2</td>\n",
       "      <td>18.2</td>\n",
       "      <td>0.454</td>\n",
       "      <td>9.5</td>\n",
       "      <td>1</td>\n",
       "    </tr>\n",
       "    <tr>\n",
       "      <th>...</th>\n",
       "      <td>...</td>\n",
       "      <td>...</td>\n",
       "      <td>...</td>\n",
       "      <td>...</td>\n",
       "      <td>...</td>\n",
       "      <td>...</td>\n",
       "      <td>...</td>\n",
       "      <td>...</td>\n",
       "      <td>...</td>\n",
       "      <td>...</td>\n",
       "      <td>...</td>\n",
       "      <td>...</td>\n",
       "      <td>...</td>\n",
       "      <td>...</td>\n",
       "      <td>...</td>\n",
       "      <td>...</td>\n",
       "      <td>...</td>\n",
       "      <td>...</td>\n",
       "      <td>...</td>\n",
       "      <td>...</td>\n",
       "      <td>...</td>\n",
       "    </tr>\n",
       "    <tr>\n",
       "      <th>2805</th>\n",
       "      <td>United States of America</td>\n",
       "      <td>2004</td>\n",
       "      <td>77.5</td>\n",
       "      <td>111.0</td>\n",
       "      <td>28</td>\n",
       "      <td>8.48</td>\n",
       "      <td>0.000000</td>\n",
       "      <td>92.0</td>\n",
       "      <td>37</td>\n",
       "      <td>63.1</td>\n",
       "      <td>33</td>\n",
       "      <td>92.0</td>\n",
       "      <td>15.14</td>\n",
       "      <td>96.0</td>\n",
       "      <td>0.1</td>\n",
       "      <td>NaN</td>\n",
       "      <td>0.7</td>\n",
       "      <td>0.6</td>\n",
       "      <td>NaN</td>\n",
       "      <td>NaN</td>\n",
       "      <td>0</td>\n",
       "    </tr>\n",
       "    <tr>\n",
       "      <th>2806</th>\n",
       "      <td>United States of America</td>\n",
       "      <td>2003</td>\n",
       "      <td>77.2</td>\n",
       "      <td>114.0</td>\n",
       "      <td>28</td>\n",
       "      <td>8.40</td>\n",
       "      <td>0.000000</td>\n",
       "      <td>92.0</td>\n",
       "      <td>56</td>\n",
       "      <td>62.4</td>\n",
       "      <td>33</td>\n",
       "      <td>91.0</td>\n",
       "      <td>15.60</td>\n",
       "      <td>96.0</td>\n",
       "      <td>0.1</td>\n",
       "      <td>NaN</td>\n",
       "      <td>0.7</td>\n",
       "      <td>0.6</td>\n",
       "      <td>NaN</td>\n",
       "      <td>NaN</td>\n",
       "      <td>0</td>\n",
       "    </tr>\n",
       "    <tr>\n",
       "      <th>2807</th>\n",
       "      <td>United States of America</td>\n",
       "      <td>2002</td>\n",
       "      <td>77.0</td>\n",
       "      <td>115.0</td>\n",
       "      <td>28</td>\n",
       "      <td>8.33</td>\n",
       "      <td>0.000000</td>\n",
       "      <td>88.0</td>\n",
       "      <td>41</td>\n",
       "      <td>61.7</td>\n",
       "      <td>33</td>\n",
       "      <td>9.0</td>\n",
       "      <td>14.55</td>\n",
       "      <td>94.0</td>\n",
       "      <td>0.1</td>\n",
       "      <td>NaN</td>\n",
       "      <td>0.8</td>\n",
       "      <td>0.6</td>\n",
       "      <td>NaN</td>\n",
       "      <td>NaN</td>\n",
       "      <td>0</td>\n",
       "    </tr>\n",
       "    <tr>\n",
       "      <th>2808</th>\n",
       "      <td>United States of America</td>\n",
       "      <td>2001</td>\n",
       "      <td>76.9</td>\n",
       "      <td>115.0</td>\n",
       "      <td>28</td>\n",
       "      <td>8.25</td>\n",
       "      <td>0.000000</td>\n",
       "      <td>89.0</td>\n",
       "      <td>116</td>\n",
       "      <td>6.9</td>\n",
       "      <td>33</td>\n",
       "      <td>89.0</td>\n",
       "      <td>13.73</td>\n",
       "      <td>94.0</td>\n",
       "      <td>0.1</td>\n",
       "      <td>NaN</td>\n",
       "      <td>0.8</td>\n",
       "      <td>0.6</td>\n",
       "      <td>NaN</td>\n",
       "      <td>NaN</td>\n",
       "      <td>0</td>\n",
       "    </tr>\n",
       "    <tr>\n",
       "      <th>2809</th>\n",
       "      <td>United States of America</td>\n",
       "      <td>2000</td>\n",
       "      <td>76.8</td>\n",
       "      <td>114.0</td>\n",
       "      <td>28</td>\n",
       "      <td>8.21</td>\n",
       "      <td>0.000000</td>\n",
       "      <td>9.0</td>\n",
       "      <td>85</td>\n",
       "      <td>6.1</td>\n",
       "      <td>33</td>\n",
       "      <td>9.0</td>\n",
       "      <td>13.70</td>\n",
       "      <td>94.0</td>\n",
       "      <td>0.1</td>\n",
       "      <td>NaN</td>\n",
       "      <td>0.8</td>\n",
       "      <td>0.7</td>\n",
       "      <td>NaN</td>\n",
       "      <td>NaN</td>\n",
       "      <td>0</td>\n",
       "    </tr>\n",
       "  </tbody>\n",
       "</table>\n",
       "<p>2928 rows × 21 columns</p>\n",
       "</div>"
      ],
      "text/plain": [
       "                       country  year  life_expectancy  adult_mortality  \\\n",
       "0                  Afghanistan  2015             65.0            263.0   \n",
       "1                  Afghanistan  2014             59.9            271.0   \n",
       "2                  Afghanistan  2013             59.9            268.0   \n",
       "3                  Afghanistan  2012             59.5            272.0   \n",
       "4                  Afghanistan  2011             59.2            275.0   \n",
       "...                        ...   ...              ...              ...   \n",
       "2805  United States of America  2004             77.5            111.0   \n",
       "2806  United States of America  2003             77.2            114.0   \n",
       "2807  United States of America  2002             77.0            115.0   \n",
       "2808  United States of America  2001             76.9            115.0   \n",
       "2809  United States of America  2000             76.8            114.0   \n",
       "\n",
       "      infant_deaths  alcohol  per_expend  hep_b  measles   bmi  \\\n",
       "0                62     0.01   71.279624   65.0     1154  19.1   \n",
       "1                64     0.01   73.523582   62.0      492  18.6   \n",
       "2                66     0.01   73.219243   64.0      430  18.1   \n",
       "3                69     0.01   78.184215   67.0     2787  17.6   \n",
       "4                71     0.01    7.097109   68.0     3013  17.2   \n",
       "...             ...      ...         ...    ...      ...   ...   \n",
       "2805             28     8.48    0.000000   92.0       37  63.1   \n",
       "2806             28     8.40    0.000000   92.0       56  62.4   \n",
       "2807             28     8.33    0.000000   88.0       41  61.7   \n",
       "2808             28     8.25    0.000000   89.0      116   6.9   \n",
       "2809             28     8.21    0.000000    9.0       85   6.1   \n",
       "\n",
       "      under-five_deaths  polio  total_expend  diphtheria  hiv_aids  \\\n",
       "0                    83    6.0          8.16        65.0       0.1   \n",
       "1                    86   58.0          8.18        62.0       0.1   \n",
       "2                    89   62.0          8.13        64.0       0.1   \n",
       "3                    93   67.0          8.52        67.0       0.1   \n",
       "4                    97   68.0          7.87        68.0       0.1   \n",
       "...                 ...    ...           ...         ...       ...   \n",
       "2805                 33   92.0         15.14        96.0       0.1   \n",
       "2806                 33   91.0         15.60        96.0       0.1   \n",
       "2807                 33    9.0         14.55        94.0       0.1   \n",
       "2808                 33   89.0         13.73        94.0       0.1   \n",
       "2809                 33    9.0         13.70        94.0       0.1   \n",
       "\n",
       "             gdp  thin_1-19_years  thin_5-9_years    icr  schooling  status  \n",
       "0     584.259210             17.2            17.3  0.479       10.1       1  \n",
       "1     612.696514             17.5            17.5  0.476       10.0       1  \n",
       "2     631.744976             17.7            17.7  0.470        9.9       1  \n",
       "3     669.959000             17.9            18.0  0.463        9.8       1  \n",
       "4      63.537231             18.2            18.2  0.454        9.5       1  \n",
       "...          ...              ...             ...    ...        ...     ...  \n",
       "2805         NaN              0.7             0.6    NaN        NaN       0  \n",
       "2806         NaN              0.7             0.6    NaN        NaN       0  \n",
       "2807         NaN              0.8             0.6    NaN        NaN       0  \n",
       "2808         NaN              0.8             0.6    NaN        NaN       0  \n",
       "2809         NaN              0.8             0.7    NaN        NaN       0  \n",
       "\n",
       "[2928 rows x 21 columns]"
      ]
     },
     "execution_count": 12,
     "metadata": {},
     "output_type": "execute_result"
    }
   ],
   "source": [
    "preprocessed_df"
   ]
  },
  {
   "cell_type": "markdown",
   "id": "cca7626a",
   "metadata": {},
   "source": [
    "# II. Dealing with missing values."
   ]
  },
  {
   "cell_type": "markdown",
   "id": "726a632e",
   "metadata": {},
   "source": [
    "As was seen previously, there are a lot of missing values..."
   ]
  },
  {
   "cell_type": "code",
   "execution_count": 13,
   "id": "6a9065d3",
   "metadata": {
    "scrolled": false
   },
   "outputs": [
    {
     "data": {
      "text/plain": [
       "hep_b                553\n",
       "gdp                  443\n",
       "total_expend         226\n",
       "alcohol              193\n",
       "schooling            160\n",
       "icr                  160\n",
       "thin_5-9_years        32\n",
       "thin_1-19_years       32\n",
       "bmi                   32\n",
       "diphtheria            19\n",
       "polio                 19\n",
       "country                0\n",
       "hiv_aids               0\n",
       "under-five_deaths      0\n",
       "year                   0\n",
       "measles                0\n",
       "per_expend             0\n",
       "infant_deaths          0\n",
       "adult_mortality        0\n",
       "life_expectancy        0\n",
       "status                 0\n",
       "dtype: int64"
      ]
     },
     "execution_count": 13,
     "metadata": {},
     "output_type": "execute_result"
    }
   ],
   "source": [
    "preprocessed_df.isna().sum().sort_values(ascending=False)"
   ]
  },
  {
   "cell_type": "markdown",
   "id": "28f5df5a",
   "metadata": {},
   "source": [
    "To fill the missing values for the first two models, I will use the K-Nearest Neighborhood (KNN) algorithm."
   ]
  },
  {
   "cell_type": "code",
   "execution_count": 14,
   "id": "ef330577",
   "metadata": {
    "scrolled": true
   },
   "outputs": [
    {
     "data": {
      "text/plain": [
       "array([[ 1.62697843,  0.79023802,  0.26751977, ..., -0.70360648,\n",
       "        -0.5677621 ,  0.46034827],\n",
       "       [ 1.41004798,  0.85461353,  0.2844554 , ..., -0.71782854,\n",
       "        -0.59765   ,  0.46034827],\n",
       "       [ 1.19311752,  0.83047271,  0.30139102, ..., -0.74627265,\n",
       "        -0.62753789,  0.46034827],\n",
       "       ...,\n",
       "       [-1.19311752, -0.40070899, -0.02038579, ..., -0.83539755,\n",
       "        -0.37050197, -2.1722684 ],\n",
       "       [-1.41004798, -0.40070899, -0.02038579, ...,  1.07794322,\n",
       "         1.36299615, -2.1722684 ],\n",
       "       [-1.62697843, -0.40875593, -0.02038579, ..., -0.88185627,\n",
       "        -0.43027776, -2.1722684 ]])"
      ]
     },
     "execution_count": 14,
     "metadata": {},
     "output_type": "execute_result"
    }
   ],
   "source": [
    "# Creating a DataFrame of all the possible features that can be used in the regression\n",
    "X = preprocessed_df.drop(columns=['country', 'life_expectancy'])\n",
    "\n",
    "# Standardizing the features\n",
    "scaler_model = StandardScaler()\n",
    "scaler_model.fit(X)\n",
    "X_rescaled = scaler_model.transform(X)\n",
    "\n",
    "# Using KNN to impute missing values\n",
    "knn_inputer = KNNImputer(n_neighbors=5, weights='uniform', metric='nan_euclidean')\n",
    "knn_inputer.fit(X_rescaled)\n",
    "knn_inputer.transform(X_rescaled)"
   ]
  },
  {
   "cell_type": "markdown",
   "id": "f6daf99e",
   "metadata": {},
   "source": [
    "Here, the KNN algorithm is looking at the five closest points to the point of interest (the missing value) in a 19-dimensional space (since X includes 19 columns) and imputing the null value using an equally weighted mean of the five closest points. I scaled the data since certain features have larger magnitudes than others, which would affect the calculation of the missing value if left unscaled.\n",
    "\n",
    "Note: For the first two models, I set the parameter n_neighbors=5, but for the third model, I will adjust the parameter to account for outliers in the data."
   ]
  },
  {
   "cell_type": "code",
   "execution_count": 15,
   "id": "816684f1",
   "metadata": {},
   "outputs": [],
   "source": [
    "# Unscaling the features that were scaled, aligning the index of the original DataFrame and columns of X\n",
    "reshaped_data_df = pd.DataFrame(scaler_model.inverse_transform(knn_inputer.transform(X_rescaled)),\n",
    "                                index=preprocessed_df.index,\n",
    "                                columns=X.columns)\n",
    "# Adding the 'country' column back in\n",
    "reshaped_data_df['country'] = preprocessed_df['country']"
   ]
  },
  {
   "cell_type": "code",
   "execution_count": 16,
   "id": "dde68b32",
   "metadata": {},
   "outputs": [
    {
     "data": {
      "text/plain": [
       "year                 0\n",
       "adult_mortality      0\n",
       "infant_deaths        0\n",
       "alcohol              0\n",
       "per_expend           0\n",
       "hep_b                0\n",
       "measles              0\n",
       "bmi                  0\n",
       "under-five_deaths    0\n",
       "polio                0\n",
       "total_expend         0\n",
       "diphtheria           0\n",
       "hiv_aids             0\n",
       "gdp                  0\n",
       "thin_1-19_years      0\n",
       "thin_5-9_years       0\n",
       "icr                  0\n",
       "schooling            0\n",
       "status               0\n",
       "country              0\n",
       "dtype: int64"
      ]
     },
     "execution_count": 16,
     "metadata": {},
     "output_type": "execute_result"
    }
   ],
   "source": [
    "reshaped_data_df.isna().sum()"
   ]
  },
  {
   "cell_type": "code",
   "execution_count": 17,
   "id": "36100a84",
   "metadata": {
    "scrolled": false
   },
   "outputs": [
    {
     "data": {
      "text/plain": [
       "schooling            0.758862\n",
       "icr                  0.728610\n",
       "adult_mortality      0.696359\n",
       "bmi                  0.570888\n",
       "hiv_aids             0.556556\n",
       "status               0.482136\n",
       "diphtheria           0.481965\n",
       "thin_1-19_years      0.478790\n",
       "thin_5-9_years       0.472869\n",
       "polio                0.468690\n",
       "gdp                  0.449950\n",
       "alcohol              0.412482\n",
       "per_expend           0.381864\n",
       "hep_b                0.344283\n",
       "total_expend         0.236241\n",
       "under-five_deaths    0.222529\n",
       "infant_deaths        0.196557\n",
       "year                 0.170033\n",
       "measles              0.157586\n",
       "dtype: float64"
      ]
     },
     "execution_count": 17,
     "metadata": {},
     "output_type": "execute_result"
    }
   ],
   "source": [
    "# Checking the correlation to life expectancy with the columns within reshaped_data_df\n",
    "reshaped_data_df.corrwith(preprocessed_df['life_expectancy']).abs().sort_values(ascending=False)"
   ]
  },
  {
   "cell_type": "markdown",
   "id": "4324572d",
   "metadata": {},
   "source": [
    "# III. A simple linear regression model."
   ]
  },
  {
   "cell_type": "markdown",
   "id": "5a43fb66",
   "metadata": {},
   "source": [
    "## Part 1: Training the model."
   ]
  },
  {
   "cell_type": "code",
   "execution_count": 18,
   "id": "6f0c1ccd",
   "metadata": {},
   "outputs": [
    {
     "name": "stdout",
     "output_type": "stream",
     "text": [
      "R^2: 0.5758710368267886\n",
      "RMSE: 6.201377005474504\n"
     ]
    },
    {
     "data": {
      "image/png": "[encoded data removed]",
      "text/plain": [
       "<Figure size 700x200 with 1 Axes>"
      ]
     },
     "metadata": {},
     "output_type": "display_data"
    }
   ],
   "source": [
    "# Setting the feature and target of our model \n",
    "X = np.array(reshaped_data_df.loc[:, ['schooling']]) # feature\n",
    "y = np.array(preprocessed_df.loc[:, ['life_expectancy']]) # target\n",
    "\n",
    "# Using a linear regression model to predict life expectancy\n",
    "lm_model = LinearRegression()\n",
    "lm_model.fit(X=X, y=y)\n",
    "y_pred = lm_model.predict(X=X)\n",
    "\n",
    "# Calculating the residuals (true value - predicted value)\n",
    "residuals = (y - y_pred)\n",
    "RMSE = residuals.std() # Root Mean Square Error\n",
    "r2 = lm_model.score(X=X, y=y) # coefficient of determination R^2\n",
    "print(f\"R^2: {r2}\\nRMSE: {RMSE}\")\n",
    "\n",
    "# Plotting the distribution of the residuals\n",
    "plt.rcParams[\"figure.figsize\"] = [7, 2]\n",
    "plt.rcParams[\"figure.autolayout\"] = True\n",
    "sns.kdeplot(x=(y - y_pred)[:, 0], fill=True, alpha=0.2);\n",
    "sns.histplot(x=(y - y_pred)[:, 0], fill=True, alpha=0.2, stat='density');\n",
    "sns.kdeplot(x=np.random.normal(scale=np.std((y - y_pred)[:, 0]), size=100000), fill=True, alpha=0.2, color='purple');"
   ]
  },
  {
   "cell_type": "markdown",
   "id": "bd9fb903",
   "metadata": {},
   "source": [
    "In the simple linear regression model, only one feature is used ('schooling') to predict our target ('life_expectancy'); the feature 'schooling' was chosen because it had the highest correlation to 'life_expectancy'. I fit the model using the defined feature and target, and created a np array 'y_pred' to contain the predicted 'life_expectancy' value of each row in X. \n",
    "\n",
    "After finding the predicted values, I calculated the residuals, root mean square error, and R squared value. These provide insight on model performance: we want the residuals to be normally distributed, the RMSE to be low, and the R squared to be close to 1. \n",
    "\n",
    "As seen above, the density plot of the residuals (blue) is close to a normal distribution (purple), but is slightly skewed to the left. The R squared value and RMSE are decent; R squared explains how much of the variation of 'life_expectancy' is explained by 'schooling', while the RMSE indicates the average error when predicting a value."
   ]
  },
  {
   "cell_type": "markdown",
   "id": "1158a603",
   "metadata": {},
   "source": [
    "## Part 2: Running a k-fold cross validation."
   ]
  },
  {
   "cell_type": "markdown",
   "id": "0a3bcbd6",
   "metadata": {},
   "source": [
    "A k-fold cross-validation will better evaluate the performance of the model as it divide the data into equal subsets and train the model with each subset. This process is repeated, and the results reflect what can be expected from the model."
   ]
  },
  {
   "cell_type": "code",
   "execution_count": 19,
   "id": "0fc91c65",
   "metadata": {
    "scrolled": true
   },
   "outputs": [
    {
     "name": "stdout",
     "output_type": "stream",
     "text": [
      "train_R^2: 0.5311529654737087\n",
      "test_R^2: 0.5280017776514347\n",
      "RMSE: 6.536174975973251\n"
     ]
    }
   ],
   "source": [
    "# Defining the feature and target\n",
    "X = preprocessed_df.drop(columns=['country', 'life_expectancy']).loc[:, ['schooling']]\n",
    "y = preprocessed_df.loc[:, ['life_expectancy']]\n",
    "\n",
    "# Splitting the data into training and testing datasets\n",
    "X_train, X_test, y_train, y_test = train_test_split(X, y, test_size=0.4, random_state=145)\n",
    "\n",
    "# Setting the k-fold cross-validation parameters\n",
    "cv = RepeatedKFold(n_splits=5, random_state=12345, n_repeats=100)\n",
    "splitting = cv.split(X=X_train, y=y_train)\n",
    "\n",
    "RMSEs = []\n",
    "train_r2_scores = []\n",
    "test_r2_scores = []\n",
    "\n",
    "for train_index, test_index in splitting:\n",
    "    \n",
    "    # Remormalizing the values in the subtraining dataset\n",
    "    X_subtraining = X_train.iloc[train_index, :]\n",
    "    scaler_model = StandardScaler()\n",
    "    scaler_model.fit(X_subtraining)\n",
    "    X_subtraining = scaler_model.transform(X_subtraining)\n",
    "    \n",
    "    # Using KNN to infer missing values\n",
    "    knn_inputer = KNNImputer(n_neighbors=5, weights='uniform', metric='nan_euclidean')\n",
    "    knn_inputer.fit(X_subtraining)\n",
    "    X_subtraining = knn_inputer.transform(X_subtraining)\n",
    "        \n",
    "    # Transforming the values in the subtesting dataset\n",
    "    X_subtesting = X_train.iloc[test_index, :]\n",
    "    X_subtesting = scaler_model.transform(X_subtesting)\n",
    "    X_subtesting = knn_inputer.transform(X_subtesting)\n",
    "    \n",
    "    # Building a linear regression model\n",
    "    lm_model = LinearRegression()\n",
    "    lm_model.fit(X=X_subtraining, y=y_train.iloc[train_index, :])\n",
    "    y_true = y_train.iloc[test_index, :]\n",
    "    y_pred = lm_model.predict(X_subtesting)\n",
    "    \n",
    "    # Finding R squared values and RMSE\n",
    "    train_r2_score = lm_model.score(X=X_subtraining, y=y_train.iloc[train_index, :])\n",
    "    test_r2_score = lm_model.score(X=X_subtesting, y=y_train.iloc[test_index, :])\n",
    "    RMSE = mean_squared_error(y_true=y_true, y_pred=y_pred, squared=False)\n",
    "\n",
    "    RMSEs.append(RMSE)\n",
    "    train_r2_scores.append(train_r2_score)\n",
    "    test_r2_scores.append(test_r2_score)\n",
    "    \n",
    "print(f\"train_R^2: {np.mean(train_r2_scores)}\\ntest_R^2: {np.mean(test_r2_scores)}\\nRMSE: {np.mean(RMSEs)}\")"
   ]
  },
  {
   "cell_type": "markdown",
   "id": "b4e8bddc",
   "metadata": {},
   "source": [
    "The R squared values and RMSEs are slightly different than the values for the prior regression, but they are not too far off. These R squared and RMSE reflect what we can expect and are essentially the result of evaluating 500 models, since the nsplits=5 and n_repeats=100."
   ]
  },
  {
   "cell_type": "markdown",
   "id": "3253e1a0",
   "metadata": {},
   "source": [
    "## Part 3: Evaluating the fitted model on a test set."
   ]
  },
  {
   "cell_type": "code",
   "execution_count": 20,
   "id": "04301553",
   "metadata": {
    "scrolled": false
   },
   "outputs": [
    {
     "name": "stdout",
     "output_type": "stream",
     "text": [
      "R^2: 0.5095888866360463\n",
      "RMSE: 6.71344541341113\n"
     ]
    },
    {
     "data": {
      "image/png": "[encoded data removed]",
      "text/plain": [
       "<Figure size 700x200 with 1 Axes>"
      ]
     },
     "metadata": {},
     "output_type": "display_data"
    }
   ],
   "source": [
    "# Splitting the data into training and testing datasets\n",
    "X_train, X_test, y_train, y_test = train_test_split(X, y, test_size=0.6, random_state=145)\n",
    "\n",
    "# Let's remormalize the values in the subtraining dataset\n",
    "scaler_model = StandardScaler()\n",
    "scaler_model.fit(X_train)\n",
    "X_train = scaler_model.transform(X_train)\n",
    "\n",
    "# Using KNN to impute missing values\n",
    "knn_inputer = KNNImputer(n_neighbors=5, weights='uniform', metric='nan_euclidean')\n",
    "knn_inputer.fit(X_train)\n",
    "X_train = knn_inputer.transform(X_train)\n",
    "\n",
    "# Transforming the values in the testing dataset\n",
    "X_test = scaler_model.transform(X_test)\n",
    "X_test = knn_inputer.transform(X_test)\n",
    "\n",
    "# Training the model\n",
    "lm_model = LinearRegression()\n",
    "lm_model.fit(X=X_train, y=y_train)\n",
    "y_true = y_test\n",
    "y_pred = lm_model.predict(X_test)\n",
    "\n",
    "train_r2_score = lm_model.score(X=X_train, y=y_train)\n",
    "test_r2_score = lm_model.score(X=X_test, y=y_test)\n",
    "RMSE = mean_squared_error(y_true=y_true, y_pred=y_pred, squared=False)\n",
    "    \n",
    "test_r2_score = lm_model.score(X=X_test, y=y_true)\n",
    "RMSE = mean_squared_error(y_true=y_true, y_pred=y_pred, squared=False)\n",
    "\n",
    "print(f\"R^2: {test_r2_score}\\nRMSE: {RMSE}\")\n",
    "\n",
    "residuals = y_true - y_pred\n",
    "plt.rcParams[\"figure.figsize\"] = [7, 2]\n",
    "plt.rcParams[\"figure.autolayout\"] = True\n",
    "sns.kdeplot(data=residuals, color='yellow', fill=True, alpha=0.2, legend=False);\n",
    "sns.kdeplot(x=np.random.normal(scale=RMSE, size=100000), fill=True, alpha=0.2, color='purple');"
   ]
  },
  {
   "cell_type": "markdown",
   "id": "4ddfa7c0",
   "metadata": {},
   "source": [
    "The R squared above is the test R squared score, which indicates how well the model performed on data that it has not seen while it was being trained. The R squared is close to the mean of the test R squared values from the cross validation, and the RMSE is slightly higher but is also close to the value from the cross validation."
   ]
  },
  {
   "cell_type": "markdown",
   "id": "3490ee6b",
   "metadata": {},
   "source": [
    "# IV. A linear regression combining principal component analysis."
   ]
  },
  {
   "cell_type": "markdown",
   "id": "4bb76740",
   "metadata": {},
   "source": [
    "Principal Component Analysis will consolidate the features and will remedy the multicollinearity between certain regressors. Using a linear regression combining PCA should provide a model with better performance."
   ]
  },
  {
   "cell_type": "markdown",
   "id": "4fd2465b",
   "metadata": {},
   "source": [
    "## Part 1: Examining correlations."
   ]
  },
  {
   "cell_type": "markdown",
   "id": "b6ae1f5b",
   "metadata": {},
   "source": [
    "While looking through the data, I observed that the top possible regressors were: 'Schooling', 'Income composition of resources', 'Adult Mortality', 'BMI', 'HIV/AIDS', and 'Status_Developing'. I will select these features to include in the linear regression with PCA."
   ]
  },
  {
   "cell_type": "code",
   "execution_count": 21,
   "id": "6c22644f",
   "metadata": {
    "scrolled": false
   },
   "outputs": [
    {
     "data": {
      "text/plain": [
       "<AxesSubplot:>"
      ]
     },
     "execution_count": 21,
     "metadata": {},
     "output_type": "execute_result"
    },
    {
     "data": {
      "image/png": "[encoded data removed]",
      "text/plain": [
       "<Figure size 1000x600 with 2 Axes>"
      ]
     },
     "metadata": {},
     "output_type": "display_data"
    }
   ],
   "source": [
    "# Visualizing the correlation of the features with a heatmap\n",
    "plt.rcParams[\"figure.figsize\"] = [10, 6]\n",
    "plt.rcParams[\"figure.autolayout\"] = True\n",
    "sns.heatmap(data=preprocessed_df.corr())\n",
    "# sns.pairplot(data=preprocessed_df)"
   ]
  },
  {
   "cell_type": "markdown",
   "id": "b756ff6d",
   "metadata": {},
   "source": [
    "The heatmap above displays the correlation between regressors. In linear regression, it is assumed that the regressors are uncorrelated with one another. However, using PCA would enable the use of the correlated regressors since it would turn them into principal compnents, which would retain the most important information on the data."
   ]
  },
  {
   "cell_type": "code",
   "execution_count": 22,
   "id": "7cf95990",
   "metadata": {
    "scrolled": true
   },
   "outputs": [
    {
     "data": {
      "text/html": [
       "<div>\n",
       "<style scoped>\n",
       "    .dataframe tbody tr th:only-of-type {\n",
       "        vertical-align: middle;\n",
       "    }\n",
       "\n",
       "    .dataframe tbody tr th {\n",
       "        vertical-align: top;\n",
       "    }\n",
       "\n",
       "    .dataframe thead th {\n",
       "        text-align: right;\n",
       "    }\n",
       "</style>\n",
       "<table border=\"1\" class=\"dataframe\">\n",
       "  <thead>\n",
       "    <tr style=\"text-align: right;\">\n",
       "      <th></th>\n",
       "      <th>schooling</th>\n",
       "      <th>icr</th>\n",
       "      <th>adult_mortality</th>\n",
       "      <th>bmi</th>\n",
       "      <th>hiv_aids</th>\n",
       "      <th>status</th>\n",
       "    </tr>\n",
       "  </thead>\n",
       "  <tbody>\n",
       "    <tr>\n",
       "      <th>schooling</th>\n",
       "      <td>1.000000</td>\n",
       "      <td>0.800046</td>\n",
       "      <td>-0.454612</td>\n",
       "      <td>0.558363</td>\n",
       "      <td>-0.222214</td>\n",
       "      <td>-0.515827</td>\n",
       "    </tr>\n",
       "    <tr>\n",
       "      <th>icr</th>\n",
       "      <td>0.800046</td>\n",
       "      <td>1.000000</td>\n",
       "      <td>-0.457626</td>\n",
       "      <td>0.509299</td>\n",
       "      <td>-0.249380</td>\n",
       "      <td>-0.478826</td>\n",
       "    </tr>\n",
       "    <tr>\n",
       "      <th>adult_mortality</th>\n",
       "      <td>-0.454612</td>\n",
       "      <td>-0.457626</td>\n",
       "      <td>1.000000</td>\n",
       "      <td>-0.387017</td>\n",
       "      <td>0.523821</td>\n",
       "      <td>0.315284</td>\n",
       "    </tr>\n",
       "    <tr>\n",
       "      <th>bmi</th>\n",
       "      <td>0.558363</td>\n",
       "      <td>0.509299</td>\n",
       "      <td>-0.387017</td>\n",
       "      <td>1.000000</td>\n",
       "      <td>-0.243735</td>\n",
       "      <td>-0.315092</td>\n",
       "    </tr>\n",
       "    <tr>\n",
       "      <th>hiv_aids</th>\n",
       "      <td>-0.222214</td>\n",
       "      <td>-0.249380</td>\n",
       "      <td>0.523821</td>\n",
       "      <td>-0.243735</td>\n",
       "      <td>1.000000</td>\n",
       "      <td>0.149178</td>\n",
       "    </tr>\n",
       "    <tr>\n",
       "      <th>status</th>\n",
       "      <td>-0.515827</td>\n",
       "      <td>-0.478826</td>\n",
       "      <td>0.315284</td>\n",
       "      <td>-0.315092</td>\n",
       "      <td>0.149178</td>\n",
       "      <td>1.000000</td>\n",
       "    </tr>\n",
       "  </tbody>\n",
       "</table>\n",
       "</div>"
      ],
      "text/plain": [
       "                 schooling       icr  adult_mortality       bmi  hiv_aids  \\\n",
       "schooling         1.000000  0.800046        -0.454612  0.558363 -0.222214   \n",
       "icr               0.800046  1.000000        -0.457626  0.509299 -0.249380   \n",
       "adult_mortality  -0.454612 -0.457626         1.000000 -0.387017  0.523821   \n",
       "bmi               0.558363  0.509299        -0.387017  1.000000 -0.243735   \n",
       "hiv_aids         -0.222214 -0.249380         0.523821 -0.243735  1.000000   \n",
       "status           -0.515827 -0.478826         0.315284 -0.315092  0.149178   \n",
       "\n",
       "                   status  \n",
       "schooling       -0.515827  \n",
       "icr             -0.478826  \n",
       "adult_mortality  0.315284  \n",
       "bmi             -0.315092  \n",
       "hiv_aids         0.149178  \n",
       "status           1.000000  "
      ]
     },
     "execution_count": 22,
     "metadata": {},
     "output_type": "execute_result"
    }
   ],
   "source": [
    "# Looking at the correlation between the top regressors\n",
    "regressors = ['schooling', 'icr', 'adult_mortality', 'bmi', 'hiv_aids', 'status']\n",
    "preprocessed_df[regressors].corr()"
   ]
  },
  {
   "cell_type": "markdown",
   "id": "df53b3b7",
   "metadata": {},
   "source": [
    "A better look at the correlation between the top regressors can be seen above."
   ]
  },
  {
   "cell_type": "markdown",
   "id": "3ae37497",
   "metadata": {},
   "source": [
    "## Part 2: Training the model."
   ]
  },
  {
   "cell_type": "markdown",
   "id": "a9aecaf9",
   "metadata": {},
   "source": [
    "Determining the principal components..."
   ]
  },
  {
   "cell_type": "code",
   "execution_count": 23,
   "id": "e799593f",
   "metadata": {},
   "outputs": [],
   "source": [
    "X = reshaped_data_df.loc[:, ['schooling', 'icr', 'adult_mortality', 'bmi', 'hiv_aids', 'status']]\n",
    "y = preprocessed_df.loc[:, ['life_expectancy']]\n",
    "\n",
    "pca_model = PCA()\n",
    "pca_model.fit(X)\n",
    "X = pca_model.transform(X)"
   ]
  },
  {
   "cell_type": "code",
   "execution_count": 24,
   "id": "df1420af",
   "metadata": {
    "scrolled": true
   },
   "outputs": [
    {
     "data": {
      "text/plain": [
       "0    0.122724\n",
       "1    0.066892\n",
       "5    0.066341\n",
       "4    0.057482\n",
       "2    0.031477\n",
       "3    0.001235\n",
       "dtype: float64"
      ]
     },
     "execution_count": 24,
     "metadata": {},
     "output_type": "execute_result"
    }
   ],
   "source": [
    "# Displaying the correlation of the components with 'life_expectancy'\n",
    "pd.DataFrame(X).corrwith(other=y['life_expectancy']).abs().sort_values(ascending=False)"
   ]
  },
  {
   "cell_type": "code",
   "execution_count": 25,
   "id": "2428fa57",
   "metadata": {
    "scrolled": false
   },
   "outputs": [
    {
     "name": "stdout",
     "output_type": "stream",
     "text": [
      "R^2: 0.8010820169982746 \n",
      "RMSE: 4.24694065723372\n",
      "[[ 0.85544285]\n",
      " [-3.95446895]\n",
      " [-3.84320214]\n",
      " ...\n",
      " [ 6.00284734]\n",
      " [-0.1475018 ]\n",
      " [ 8.7467921 ]]\n",
      "(2928, 1)\n"
     ]
    },
    {
     "data": {
      "image/png": "[encoded data removed]",
      "text/plain": [
       "<Figure size 700x200 with 1 Axes>"
      ]
     },
     "metadata": {},
     "output_type": "display_data"
    }
   ],
   "source": [
    "X = reshaped_data_df.loc[:, ['schooling', 'icr', 'adult_mortality', 'bmi', 'hiv_aids', 'status']]\n",
    "y = np.array(preprocessed_df.loc[:, ['life_expectancy']])\n",
    "\n",
    "pca_model = PCA()\n",
    "pca_model.fit(X)\n",
    "X = pca_model.transform(X)\n",
    "\n",
    "selected_components = [0, 1, 5, 4, 2, 3]\n",
    "lm_model = LinearRegression()\n",
    "lm_model.fit(X[:, selected_components], y=y)\n",
    "y_pred = lm_model.predict(X=X[:, selected_components])\n",
    "\n",
    "# Calculating the residuals (actual value - predicted value)\n",
    "residuals = (y - y_pred)\n",
    "RMSE = residuals.std() # Root Mean Square Error\n",
    "R2 = lm_model.score(X=X[:, selected_components], y=y) # coefficient of determination R^2\n",
    "print('R^2:', R2, '\\nRMSE:', RMSE)\n",
    "print(residuals)\n",
    "print(residuals.shape)\n",
    "\n",
    "# Displaying the distribution of the residuals\n",
    "plt.rcParams[\"figure.figsize\"] = [7, 2]\n",
    "plt.rcParams[\"figure.autolayout\"] = True\n",
    "sns.kdeplot(x=residuals[:, 0], fill=True, alpha=0.2);\n",
    "sns.histplot(x=residuals[:, 0], fill=True, alpha=0.2, stat='density');\n",
    "sns.kdeplot(x=np.random.normal(scale=np.std(residuals[:, 0]), size=100000), fill=True, alpha=0.2, color='purple');"
   ]
  },
  {
   "cell_type": "markdown",
   "id": "f00c15ea",
   "metadata": {},
   "source": [
    "The combined linear regression and PCA model has a much higher R squared value as well as a lower RMSE. More importantly, the residuals look closer to a normal distribution than the simple linear regression model."
   ]
  },
  {
   "cell_type": "markdown",
   "id": "68f2582d",
   "metadata": {},
   "source": [
    "## Part 3: Running a k-fold cross validation."
   ]
  },
  {
   "cell_type": "code",
   "execution_count": 26,
   "id": "6c7e9afc",
   "metadata": {},
   "outputs": [
    {
     "name": "stdout",
     "output_type": "stream",
     "text": [
      "train_R^2: 0.8055477276657717\n",
      "test_R^2: 0.8019873789169474\n",
      "RMSE: 4.225350100613437\n"
     ]
    }
   ],
   "source": [
    "# Defining the features and target\n",
    "X = reshaped_data_df.loc[:, ['schooling', 'icr', 'adult_mortality', 'bmi', 'hiv_aids', 'status']]\n",
    "y = preprocessed_df.loc[:, ['life_expectancy']]\n",
    "\n",
    "# Splitting the data into training and testing datasets\n",
    "X_train, X_test, y_train, y_test = train_test_split(X, y, test_size=0.3, random_state=145)\n",
    "\n",
    "# Setting the k-fold cross-validation parameters\n",
    "cv = RepeatedKFold(n_splits=5, random_state=12345, n_repeats=100)\n",
    "splitting = cv.split(X=X_train, y=y_train)\n",
    "\n",
    "RMSEs = []\n",
    "train_r2_scores = []\n",
    "test_r2_scores = []\n",
    "\n",
    "for train_index, test_index in splitting:\n",
    "    \n",
    "    X_subtraining = X_train.iloc[train_index, :].copy()\n",
    "    X_subtesting = X_train.iloc[test_index, :].copy()\n",
    "    \n",
    "    # Using PCA for feature engineering\n",
    "    pca_model = PCA()\n",
    "    pca_model.fit(X_subtraining)\n",
    "    X_subtraining = pca_model.transform(X_subtraining)\n",
    "\n",
    "    # Transforming the values in the subtesting dataset\n",
    "    X_subtesting = pca_model.transform(X_subtesting)\n",
    "    \n",
    "    selected_components = [0, 1, 5, 4, 2, 3]\n",
    "    \n",
    "    # Building a linear regression model\n",
    "    lm_model = LinearRegression()\n",
    "    lm_model.fit(X=X_subtraining[:, selected_components], y=np.array(y_train.iloc[train_index]))\n",
    "    y_true = np.array(y_train.iloc[test_index, :])\n",
    "    y_pred = lm_model.predict(X=X_subtesting[:, selected_components])\n",
    "    \n",
    "    # Finding R squared values and RMSE\n",
    "    train_r2 = lm_model.score(X=X_subtraining[:, selected_components], y=np.array(y_train.iloc[train_index]['life_expectancy']))\n",
    "    test_r2 = lm_model.score(X=X_subtesting[:, selected_components], y=y_true)\n",
    "    RMSE = mean_squared_error(y_true=y_true, y_pred=y_pred, squared=False)\n",
    "    \n",
    "    RMSEs.append(RMSE)\n",
    "    train_r2_scores.append(train_r2)\n",
    "    test_r2_scores.append(test_r2)\n",
    "\n",
    "print(f\"train_R^2: {np.mean(train_r2_scores)}\\ntest_R^2: {np.mean(test_r2_scores)}\\nRMSE: {np.mean(RMSEs)}\")"
   ]
  },
  {
   "cell_type": "markdown",
   "id": "487fd7c8",
   "metadata": {},
   "source": [
    "The cross validation of the linear regression and PCA model demonstrates that the higher R squared score and lower RMSE are expected with this model. These values show that utilizing PCA improved the model substantially."
   ]
  },
  {
   "cell_type": "markdown",
   "id": "3a6ecc97",
   "metadata": {},
   "source": [
    "## Part 4: Evaluating the fitted model on a test set."
   ]
  },
  {
   "cell_type": "code",
   "execution_count": 27,
   "id": "d1fba6f4",
   "metadata": {
    "scrolled": true
   },
   "outputs": [
    {
     "name": "stdout",
     "output_type": "stream",
     "text": [
      "R^2: 0.7955408555076536\n",
      "RMSE: 4.3347951623953485\n"
     ]
    },
    {
     "data": {
      "image/png": "[encoded data removed]",
      "text/plain": [
       "<Figure size 700x200 with 1 Axes>"
      ]
     },
     "metadata": {},
     "output_type": "display_data"
    }
   ],
   "source": [
    "X = reshaped_data_df.loc[:, ['schooling', 'icr', 'adult_mortality', 'bmi', 'hiv_aids', 'status']]\n",
    "y = preprocessed_df.loc[:, ['life_expectancy']]\n",
    "\n",
    "# Splitting the data into training and testing datasets\n",
    "X_train, X_test, y_train, y_test = train_test_split(X, y, test_size=0.6, random_state=145)\n",
    "\n",
    "# Fitting the PCA model\n",
    "pca_model = PCA()\n",
    "pca_model.fit(X_train)\n",
    "X_train_reduced = pca_model.transform(X_train)\n",
    "\n",
    "# Transforming the values in the test set\n",
    "X_test_reduced = pca_model.transform(X_test)\n",
    "\n",
    "selected_components = [0, 1, 5, 4, 2, 3]\n",
    "\n",
    "# Building a linear regression model\n",
    "lm_model = LinearRegression()\n",
    "lm_model.fit(X=X_train_reduced[:, selected_components], y=np.array(y_train))\n",
    "y_pred = lm_model.predict(X=X_test_reduced[:, selected_components])\n",
    "y_true = np.array(y_test)\n",
    "\n",
    "# Finding R squared values and RMSE\n",
    "residuals = y_true - y_pred\n",
    "train_r2_score = lm_model.score(X=X_train_reduced[:, selected_components], y=np.array(y_train))\n",
    "test_r2_score = lm_model.score(X=X_test_reduced[:, selected_components], y=y_true)\n",
    "RMSE = mean_squared_error(y_true=y_true, y_pred=y_pred, squared=False)\n",
    "\n",
    "print(f\"R^2: {test_r2_score}\\nRMSE: {RMSE}\")\n",
    "\n",
    "plt.rcParams[\"figure.figsize\"] = [7, 2]\n",
    "plt.rcParams[\"figure.autolayout\"] = True\n",
    "sns.kdeplot(data=residuals, color='blue', fill=True, alpha=0.2, legend=False);\n",
    "sns.kdeplot(x=np.random.normal(scale=RMSE, size=100000), fill=True, alpha=0.2, color='purple');"
   ]
  },
  {
   "cell_type": "markdown",
   "id": "3f296908",
   "metadata": {},
   "source": [
    "# V. A linear regression model that attempts to improve prediction accuracy."
   ]
  },
  {
   "cell_type": "markdown",
   "id": "4f8a473d",
   "metadata": {},
   "source": [
    "As noted previously, several of the top regressors for 'life_expectancy' are highly correlated with one another. If I remove the correlated regressors, I would be able to avoid multicollinearity, but I would only be left with 'schooling' and 'adult_mortality' as regressors (which I tried and did not improve the prediction accuracy). To improve prediction accuracy, I would like to finetune the combined linear regression and PCA model as it addresses the multicollinearity issue and has improved the model substantially already.\n",
    "\n",
    "To improve the linear regression + PCA model, I will start by refilling missing values to account for outliers."
   ]
  },
  {
   "cell_type": "markdown",
   "id": "b5ff1b61",
   "metadata": {},
   "source": [
    "## Part 1: Looking through the data once more."
   ]
  },
  {
   "cell_type": "markdown",
   "id": "d58b424e",
   "metadata": {},
   "source": [
    "In Section I, I looked through the missing values, but I noticed that there were also many 0 values for 'Income composition of resources' when looking at the distribution plots of the possible regressors. I will check for 0 values since a value of '0' can mean that data was not entered properly. "
   ]
  },
  {
   "cell_type": "code",
   "execution_count": 28,
   "id": "057bf21f",
   "metadata": {
    "scrolled": false
   },
   "outputs": [
    {
     "data": {
      "text/html": [
       "<div>\n",
       "<style scoped>\n",
       "    .dataframe tbody tr th:only-of-type {\n",
       "        vertical-align: middle;\n",
       "    }\n",
       "\n",
       "    .dataframe tbody tr th {\n",
       "        vertical-align: top;\n",
       "    }\n",
       "\n",
       "    .dataframe thead th {\n",
       "        text-align: right;\n",
       "    }\n",
       "</style>\n",
       "<table border=\"1\" class=\"dataframe\">\n",
       "  <thead>\n",
       "    <tr style=\"text-align: right;\">\n",
       "      <th>status</th>\n",
       "      <th>0</th>\n",
       "      <th>1</th>\n",
       "    </tr>\n",
       "  </thead>\n",
       "  <tbody>\n",
       "    <tr>\n",
       "      <th>measles</th>\n",
       "      <td>131</td>\n",
       "      <td>842</td>\n",
       "    </tr>\n",
       "    <tr>\n",
       "      <th>infant_deaths</th>\n",
       "      <td>321</td>\n",
       "      <td>517</td>\n",
       "    </tr>\n",
       "    <tr>\n",
       "      <th>per_expend</th>\n",
       "      <td>92</td>\n",
       "      <td>514</td>\n",
       "    </tr>\n",
       "    <tr>\n",
       "      <th>under-five_deaths</th>\n",
       "      <td>298</td>\n",
       "      <td>477</td>\n",
       "    </tr>\n",
       "    <tr>\n",
       "      <th>icr</th>\n",
       "      <td>0</td>\n",
       "      <td>130</td>\n",
       "    </tr>\n",
       "    <tr>\n",
       "      <th>schooling</th>\n",
       "      <td>0</td>\n",
       "      <td>26</td>\n",
       "    </tr>\n",
       "    <tr>\n",
       "      <th>country</th>\n",
       "      <td>0</td>\n",
       "      <td>0</td>\n",
       "    </tr>\n",
       "    <tr>\n",
       "      <th>year</th>\n",
       "      <td>0</td>\n",
       "      <td>0</td>\n",
       "    </tr>\n",
       "    <tr>\n",
       "      <th>life_expectancy</th>\n",
       "      <td>0</td>\n",
       "      <td>0</td>\n",
       "    </tr>\n",
       "    <tr>\n",
       "      <th>adult_mortality</th>\n",
       "      <td>0</td>\n",
       "      <td>0</td>\n",
       "    </tr>\n",
       "    <tr>\n",
       "      <th>alcohol</th>\n",
       "      <td>0</td>\n",
       "      <td>0</td>\n",
       "    </tr>\n",
       "    <tr>\n",
       "      <th>hep_b</th>\n",
       "      <td>0</td>\n",
       "      <td>0</td>\n",
       "    </tr>\n",
       "    <tr>\n",
       "      <th>bmi</th>\n",
       "      <td>0</td>\n",
       "      <td>0</td>\n",
       "    </tr>\n",
       "    <tr>\n",
       "      <th>polio</th>\n",
       "      <td>0</td>\n",
       "      <td>0</td>\n",
       "    </tr>\n",
       "    <tr>\n",
       "      <th>total_expend</th>\n",
       "      <td>0</td>\n",
       "      <td>0</td>\n",
       "    </tr>\n",
       "    <tr>\n",
       "      <th>diphtheria</th>\n",
       "      <td>0</td>\n",
       "      <td>0</td>\n",
       "    </tr>\n",
       "    <tr>\n",
       "      <th>hiv_aids</th>\n",
       "      <td>0</td>\n",
       "      <td>0</td>\n",
       "    </tr>\n",
       "    <tr>\n",
       "      <th>gdp</th>\n",
       "      <td>0</td>\n",
       "      <td>0</td>\n",
       "    </tr>\n",
       "    <tr>\n",
       "      <th>thin_1-19_years</th>\n",
       "      <td>0</td>\n",
       "      <td>0</td>\n",
       "    </tr>\n",
       "    <tr>\n",
       "      <th>thin_5-9_years</th>\n",
       "      <td>0</td>\n",
       "      <td>0</td>\n",
       "    </tr>\n",
       "  </tbody>\n",
       "</table>\n",
       "</div>"
      ],
      "text/plain": [
       "status               0    1\n",
       "measles            131  842\n",
       "infant_deaths      321  517\n",
       "per_expend          92  514\n",
       "under-five_deaths  298  477\n",
       "icr                  0  130\n",
       "schooling            0   26\n",
       "country              0    0\n",
       "year                 0    0\n",
       "life_expectancy      0    0\n",
       "adult_mortality      0    0\n",
       "alcohol              0    0\n",
       "hep_b                0    0\n",
       "bmi                  0    0\n",
       "polio                0    0\n",
       "total_expend         0    0\n",
       "diphtheria           0    0\n",
       "hiv_aids             0    0\n",
       "gdp                  0    0\n",
       "thin_1-19_years      0    0\n",
       "thin_5-9_years       0    0"
      ]
     },
     "execution_count": 28,
     "metadata": {},
     "output_type": "execute_result"
    }
   ],
   "source": [
    "# Checking how many 0 values are in each column\n",
    "preprocessed_df.groupby('status').agg(lambda x: (x==0).sum()).T.sort_values(ascending=False, by=[1, 0])"
   ]
  },
  {
   "cell_type": "code",
   "execution_count": 29,
   "id": "98bbe3b7",
   "metadata": {},
   "outputs": [],
   "source": [
    "preprocessed_df.drop(columns=['measles', 'infant_deaths'], inplace=True);"
   ]
  },
  {
   "cell_type": "markdown",
   "id": "eb4e110d",
   "metadata": {},
   "source": [
    "Based on the table above, I decided to drop 'measles' and 'infant_deaths' since they had the most amount of 0 values, which could be misentered data, and they were uncorrelated with 'life_expectancy' as well. \n",
    "\n",
    "I am also going to replace 0's in 'per_expend', 'icr', and 'schooling' with np.nan so that they can be estimated with the KNN imputer. There were many 0 values for 'icr' in developing countries, which may mean that they were misentered or missing; also, 'icr' and 'schooling' are highly correlated to 'life_expectancy' and are included in the principal component analysis."
   ]
  },
  {
   "cell_type": "code",
   "execution_count": 30,
   "id": "9456af0e",
   "metadata": {},
   "outputs": [],
   "source": [
    "preprocessed_df.loc[:, ['per_expend', 'icr', 'schooling']] =\\\n",
    "    preprocessed_df.loc[:, ['per_expend', 'icr', 'schooling']].apply(lambda x: np.where(x==0, np.nan, x))"
   ]
  },
  {
   "cell_type": "code",
   "execution_count": 31,
   "id": "98b4084a",
   "metadata": {},
   "outputs": [
    {
     "data": {
      "text/html": [
       "<div>\n",
       "<style scoped>\n",
       "    .dataframe tbody tr th:only-of-type {\n",
       "        vertical-align: middle;\n",
       "    }\n",
       "\n",
       "    .dataframe tbody tr th {\n",
       "        vertical-align: top;\n",
       "    }\n",
       "\n",
       "    .dataframe thead th {\n",
       "        text-align: right;\n",
       "    }\n",
       "</style>\n",
       "<table border=\"1\" class=\"dataframe\">\n",
       "  <thead>\n",
       "    <tr style=\"text-align: right;\">\n",
       "      <th>status</th>\n",
       "      <th>0</th>\n",
       "      <th>1</th>\n",
       "    </tr>\n",
       "  </thead>\n",
       "  <tbody>\n",
       "    <tr>\n",
       "      <th>under-five_deaths</th>\n",
       "      <td>298</td>\n",
       "      <td>477</td>\n",
       "    </tr>\n",
       "    <tr>\n",
       "      <th>country</th>\n",
       "      <td>0</td>\n",
       "      <td>0</td>\n",
       "    </tr>\n",
       "    <tr>\n",
       "      <th>year</th>\n",
       "      <td>0</td>\n",
       "      <td>0</td>\n",
       "    </tr>\n",
       "    <tr>\n",
       "      <th>life_expectancy</th>\n",
       "      <td>0</td>\n",
       "      <td>0</td>\n",
       "    </tr>\n",
       "    <tr>\n",
       "      <th>adult_mortality</th>\n",
       "      <td>0</td>\n",
       "      <td>0</td>\n",
       "    </tr>\n",
       "    <tr>\n",
       "      <th>alcohol</th>\n",
       "      <td>0</td>\n",
       "      <td>0</td>\n",
       "    </tr>\n",
       "    <tr>\n",
       "      <th>per_expend</th>\n",
       "      <td>0</td>\n",
       "      <td>0</td>\n",
       "    </tr>\n",
       "    <tr>\n",
       "      <th>hep_b</th>\n",
       "      <td>0</td>\n",
       "      <td>0</td>\n",
       "    </tr>\n",
       "    <tr>\n",
       "      <th>bmi</th>\n",
       "      <td>0</td>\n",
       "      <td>0</td>\n",
       "    </tr>\n",
       "    <tr>\n",
       "      <th>polio</th>\n",
       "      <td>0</td>\n",
       "      <td>0</td>\n",
       "    </tr>\n",
       "    <tr>\n",
       "      <th>total_expend</th>\n",
       "      <td>0</td>\n",
       "      <td>0</td>\n",
       "    </tr>\n",
       "    <tr>\n",
       "      <th>diphtheria</th>\n",
       "      <td>0</td>\n",
       "      <td>0</td>\n",
       "    </tr>\n",
       "    <tr>\n",
       "      <th>hiv_aids</th>\n",
       "      <td>0</td>\n",
       "      <td>0</td>\n",
       "    </tr>\n",
       "    <tr>\n",
       "      <th>gdp</th>\n",
       "      <td>0</td>\n",
       "      <td>0</td>\n",
       "    </tr>\n",
       "    <tr>\n",
       "      <th>thin_1-19_years</th>\n",
       "      <td>0</td>\n",
       "      <td>0</td>\n",
       "    </tr>\n",
       "    <tr>\n",
       "      <th>thin_5-9_years</th>\n",
       "      <td>0</td>\n",
       "      <td>0</td>\n",
       "    </tr>\n",
       "    <tr>\n",
       "      <th>icr</th>\n",
       "      <td>0</td>\n",
       "      <td>0</td>\n",
       "    </tr>\n",
       "    <tr>\n",
       "      <th>schooling</th>\n",
       "      <td>0</td>\n",
       "      <td>0</td>\n",
       "    </tr>\n",
       "  </tbody>\n",
       "</table>\n",
       "</div>"
      ],
      "text/plain": [
       "status               0    1\n",
       "under-five_deaths  298  477\n",
       "country              0    0\n",
       "year                 0    0\n",
       "life_expectancy      0    0\n",
       "adult_mortality      0    0\n",
       "alcohol              0    0\n",
       "per_expend           0    0\n",
       "hep_b                0    0\n",
       "bmi                  0    0\n",
       "polio                0    0\n",
       "total_expend         0    0\n",
       "diphtheria           0    0\n",
       "hiv_aids             0    0\n",
       "gdp                  0    0\n",
       "thin_1-19_years      0    0\n",
       "thin_5-9_years       0    0\n",
       "icr                  0    0\n",
       "schooling            0    0"
      ]
     },
     "execution_count": 31,
     "metadata": {},
     "output_type": "execute_result"
    }
   ],
   "source": [
    "preprocessed_df.groupby('status').agg(lambda x: (x==0).sum()).T.sort_values(ascending=False, by=[1, 0])"
   ]
  },
  {
   "cell_type": "markdown",
   "id": "f5d1c734",
   "metadata": {},
   "source": [
    "## Part 2: Refilling missing values"
   ]
  },
  {
   "cell_type": "markdown",
   "id": "1f417107",
   "metadata": {},
   "source": [
    "There are now more missing values overall..."
   ]
  },
  {
   "cell_type": "code",
   "execution_count": 32,
   "id": "b95741b5",
   "metadata": {
    "scrolled": true
   },
   "outputs": [
    {
     "data": {
      "text/plain": [
       "per_expend           606\n",
       "hep_b                553\n",
       "gdp                  443\n",
       "icr                  290\n",
       "total_expend         226\n",
       "alcohol              193\n",
       "schooling            186\n",
       "bmi                   32\n",
       "thin_5-9_years        32\n",
       "thin_1-19_years       32\n",
       "polio                 19\n",
       "diphtheria            19\n",
       "country                0\n",
       "hiv_aids               0\n",
       "year                   0\n",
       "under-five_deaths      0\n",
       "adult_mortality        0\n",
       "life_expectancy        0\n",
       "status                 0\n",
       "dtype: int64"
      ]
     },
     "execution_count": 32,
     "metadata": {},
     "output_type": "execute_result"
    }
   ],
   "source": [
    "preprocessed_df.isna().sum().sort_values(ascending=False)"
   ]
  },
  {
   "cell_type": "code",
   "execution_count": 33,
   "id": "27e9249a",
   "metadata": {
    "scrolled": false
   },
   "outputs": [
    {
     "data": {
      "text/html": [
       "<div>\n",
       "<style scoped>\n",
       "    .dataframe tbody tr th:only-of-type {\n",
       "        vertical-align: middle;\n",
       "    }\n",
       "\n",
       "    .dataframe tbody tr th {\n",
       "        vertical-align: top;\n",
       "    }\n",
       "\n",
       "    .dataframe thead th {\n",
       "        text-align: right;\n",
       "    }\n",
       "</style>\n",
       "<table border=\"1\" class=\"dataframe\">\n",
       "  <thead>\n",
       "    <tr style=\"text-align: right;\">\n",
       "      <th>status</th>\n",
       "      <th>0</th>\n",
       "      <th>1</th>\n",
       "    </tr>\n",
       "  </thead>\n",
       "  <tbody>\n",
       "    <tr>\n",
       "      <th>per_expend</th>\n",
       "      <td>92</td>\n",
       "      <td>514</td>\n",
       "    </tr>\n",
       "    <tr>\n",
       "      <th>hep_b</th>\n",
       "      <td>173</td>\n",
       "      <td>380</td>\n",
       "    </tr>\n",
       "    <tr>\n",
       "      <th>gdp</th>\n",
       "      <td>64</td>\n",
       "      <td>379</td>\n",
       "    </tr>\n",
       "    <tr>\n",
       "      <th>icr</th>\n",
       "      <td>48</td>\n",
       "      <td>242</td>\n",
       "    </tr>\n",
       "    <tr>\n",
       "      <th>total_expend</th>\n",
       "      <td>32</td>\n",
       "      <td>194</td>\n",
       "    </tr>\n",
       "    <tr>\n",
       "      <th>alcohol</th>\n",
       "      <td>28</td>\n",
       "      <td>165</td>\n",
       "    </tr>\n",
       "    <tr>\n",
       "      <th>schooling</th>\n",
       "      <td>48</td>\n",
       "      <td>138</td>\n",
       "    </tr>\n",
       "    <tr>\n",
       "      <th>bmi</th>\n",
       "      <td>0</td>\n",
       "      <td>32</td>\n",
       "    </tr>\n",
       "    <tr>\n",
       "      <th>thin_1-19_years</th>\n",
       "      <td>0</td>\n",
       "      <td>32</td>\n",
       "    </tr>\n",
       "    <tr>\n",
       "      <th>thin_5-9_years</th>\n",
       "      <td>0</td>\n",
       "      <td>32</td>\n",
       "    </tr>\n",
       "    <tr>\n",
       "      <th>polio</th>\n",
       "      <td>0</td>\n",
       "      <td>19</td>\n",
       "    </tr>\n",
       "    <tr>\n",
       "      <th>diphtheria</th>\n",
       "      <td>0</td>\n",
       "      <td>19</td>\n",
       "    </tr>\n",
       "    <tr>\n",
       "      <th>country</th>\n",
       "      <td>0</td>\n",
       "      <td>0</td>\n",
       "    </tr>\n",
       "    <tr>\n",
       "      <th>year</th>\n",
       "      <td>0</td>\n",
       "      <td>0</td>\n",
       "    </tr>\n",
       "    <tr>\n",
       "      <th>life_expectancy</th>\n",
       "      <td>0</td>\n",
       "      <td>0</td>\n",
       "    </tr>\n",
       "    <tr>\n",
       "      <th>adult_mortality</th>\n",
       "      <td>0</td>\n",
       "      <td>0</td>\n",
       "    </tr>\n",
       "    <tr>\n",
       "      <th>under-five_deaths</th>\n",
       "      <td>0</td>\n",
       "      <td>0</td>\n",
       "    </tr>\n",
       "    <tr>\n",
       "      <th>hiv_aids</th>\n",
       "      <td>0</td>\n",
       "      <td>0</td>\n",
       "    </tr>\n",
       "  </tbody>\n",
       "</table>\n",
       "</div>"
      ],
      "text/plain": [
       "status               0    1\n",
       "per_expend          92  514\n",
       "hep_b              173  380\n",
       "gdp                 64  379\n",
       "icr                 48  242\n",
       "total_expend        32  194\n",
       "alcohol             28  165\n",
       "schooling           48  138\n",
       "bmi                  0   32\n",
       "thin_1-19_years      0   32\n",
       "thin_5-9_years       0   32\n",
       "polio                0   19\n",
       "diphtheria           0   19\n",
       "country              0    0\n",
       "year                 0    0\n",
       "life_expectancy      0    0\n",
       "adult_mortality      0    0\n",
       "under-five_deaths    0    0\n",
       "hiv_aids             0    0"
      ]
     },
     "execution_count": 33,
     "metadata": {},
     "output_type": "execute_result"
    }
   ],
   "source": [
    "# Comparing the number of missing values in Developed countries (0) vs Developing countries (1)\n",
    "preprocessed_df.groupby('status').agg(lambda x: x.isna().sum()).T.sort_values(ascending=False, by=[1, 0])"
   ]
  },
  {
   "cell_type": "code",
   "execution_count": 34,
   "id": "ab9fd23b",
   "metadata": {},
   "outputs": [],
   "source": [
    "developed = preprocessed_df.loc[preprocessed_df['status'] == 0, :]\n",
    "developing = preprocessed_df.loc[preprocessed_df['status'] == 1, :]"
   ]
  },
  {
   "cell_type": "code",
   "execution_count": 35,
   "id": "ef460de5",
   "metadata": {},
   "outputs": [
    {
     "name": "stdout",
     "output_type": "stream",
     "text": [
      "(512, 19)\n",
      "(2416, 19)\n"
     ]
    }
   ],
   "source": [
    "print(developed.shape)\n",
    "print(developing.shape)"
   ]
  },
  {
   "cell_type": "markdown",
   "id": "cd80219d",
   "metadata": {},
   "source": [
    "Since our PCA model combines the features ['schooling', 'icr', 'adult_mortality', 'bmi', 'hiv_aids', 'status'], I will focus on these columns.\n",
    "\n",
    "I also decided to separate the features by 'status' when looking for outliers, since there are more developing countries overall and there are more missing values for them for each column. It may help to impute the missing values separately for developing and developed countries, as the number of neighbors paremeters may need to be higher when imputing missing values for developing countries.\n",
    "\n",
    "Of the six features, 'schooling', 'icr', and 'bmi' are the only ones with missing values, and I will plot boxplots of each to check for outliers..."
   ]
  },
  {
   "cell_type": "code",
   "execution_count": 36,
   "id": "7f2c74f5",
   "metadata": {
    "scrolled": false
   },
   "outputs": [
    {
     "data": {
      "text/plain": [
       "<AxesSubplot:xlabel='schooling'>"
      ]
     },
     "execution_count": 36,
     "metadata": {},
     "output_type": "execute_result"
    },
    {
     "data": {
      "image/png": "[encoded data removed]",
      "text/plain": [
       "<Figure size 700x200 with 1 Axes>"
      ]
     },
     "metadata": {},
     "output_type": "display_data"
    }
   ],
   "source": [
    "sns.boxplot(data=developed, x='schooling', color='blue')"
   ]
  },
  {
   "cell_type": "code",
   "execution_count": 37,
   "id": "113d10ce",
   "metadata": {},
   "outputs": [
    {
     "data": {
      "text/plain": [
       "<AxesSubplot:xlabel='schooling'>"
      ]
     },
     "execution_count": 37,
     "metadata": {},
     "output_type": "execute_result"
    },
    {
     "data": {
      "image/png": "[encoded data removed]",
      "text/plain": [
       "<Figure size 700x200 with 1 Axes>"
      ]
     },
     "metadata": {},
     "output_type": "display_data"
    }
   ],
   "source": [
    "sns.boxplot(data=developing, x='schooling', color='red')"
   ]
  },
  {
   "cell_type": "code",
   "execution_count": 38,
   "id": "dcbe00ed",
   "metadata": {},
   "outputs": [
    {
     "data": {
      "text/plain": [
       "<AxesSubplot:xlabel='icr'>"
      ]
     },
     "execution_count": 38,
     "metadata": {},
     "output_type": "execute_result"
    },
    {
     "data": {
      "image/png": "[encoded data removed]",
      "text/plain": [
       "<Figure size 700x200 with 1 Axes>"
      ]
     },
     "metadata": {},
     "output_type": "display_data"
    }
   ],
   "source": [
    "sns.boxplot(data=developed, x='icr', color='blue')"
   ]
  },
  {
   "cell_type": "code",
   "execution_count": 39,
   "id": "015abda2",
   "metadata": {},
   "outputs": [
    {
     "data": {
      "text/plain": [
       "<AxesSubplot:xlabel='icr'>"
      ]
     },
     "execution_count": 39,
     "metadata": {},
     "output_type": "execute_result"
    },
    {
     "data": {
      "image/png": "[encoded data removed]",
      "text/plain": [
       "<Figure size 700x200 with 1 Axes>"
      ]
     },
     "metadata": {},
     "output_type": "display_data"
    }
   ],
   "source": [
    "sns.boxplot(data=developing, x='icr', color='red')"
   ]
  },
  {
   "cell_type": "code",
   "execution_count": 40,
   "id": "7ea211d5",
   "metadata": {
    "scrolled": true
   },
   "outputs": [
    {
     "data": {
      "text/plain": [
       "<AxesSubplot:xlabel='bmi'>"
      ]
     },
     "execution_count": 40,
     "metadata": {},
     "output_type": "execute_result"
    },
    {
     "data": {
      "image/png": "[encoded data removed]",
      "text/plain": [
       "<Figure size 700x200 with 1 Axes>"
      ]
     },
     "metadata": {},
     "output_type": "display_data"
    }
   ],
   "source": [
    "sns.boxplot(data=developed, x='bmi', color='blue')"
   ]
  },
  {
   "cell_type": "code",
   "execution_count": 41,
   "id": "2bb3879e",
   "metadata": {},
   "outputs": [
    {
     "data": {
      "text/plain": [
       "<AxesSubplot:xlabel='bmi'>"
      ]
     },
     "execution_count": 41,
     "metadata": {},
     "output_type": "execute_result"
    },
    {
     "data": {
      "image/png": "[encoded data removed]",
      "text/plain": [
       "<Figure size 700x200 with 1 Axes>"
      ]
     },
     "metadata": {},
     "output_type": "display_data"
    }
   ],
   "source": [
    "sns.boxplot(data=developing, x='bmi', color='red')"
   ]
  },
  {
   "cell_type": "markdown",
   "id": "5fc4b524",
   "metadata": {},
   "source": [
    "Based on the boxplots, the outliers for 'schooling' and 'bmi' are quite different for developed countries vs developing countries."
   ]
  },
  {
   "cell_type": "markdown",
   "id": "1fc8c35a",
   "metadata": {},
   "source": [
    "Imputing the missing values for developed countries: (using 8 neighbors)"
   ]
  },
  {
   "cell_type": "code",
   "execution_count": 42,
   "id": "719d8d09",
   "metadata": {
    "scrolled": true
   },
   "outputs": [
    {
     "data": {
      "text/plain": [
       "adult_mortality      0\n",
       "alcohol              0\n",
       "bmi                  0\n",
       "country              0\n",
       "diphtheria           0\n",
       "gdp                  0\n",
       "hep_b                0\n",
       "hiv_aids             0\n",
       "icr                  0\n",
       "life_expectancy      0\n",
       "per_expend           0\n",
       "polio                0\n",
       "schooling            0\n",
       "status               0\n",
       "thin_1-19_years      0\n",
       "thin_5-9_years       0\n",
       "total_expend         0\n",
       "under-five_deaths    0\n",
       "year                 0\n",
       "dtype: int64"
      ]
     },
     "execution_count": 42,
     "metadata": {},
     "output_type": "execute_result"
    }
   ],
   "source": [
    "# Creating a DataFrame of all the possible features we can use in our regression\n",
    "X_developed = developed.drop(columns=['country', 'life_expectancy'])\n",
    "\n",
    "# Standardizing the features\n",
    "scaler_model = StandardScaler()\n",
    "scaler_model.fit(X_developed)\n",
    "developed_rescaled = scaler_model.transform(X_developed)\n",
    "\n",
    "# Using KNN to impute missing values\n",
    "knn_inputer = KNNImputer(n_neighbors=8, weights='uniform', metric='nan_euclidean')\n",
    "knn_inputer.fit(developed_rescaled)\n",
    "knn_inputer.transform(developed_rescaled)\n",
    "\n",
    "# Unscaling the features that were scaled, aligning the index of the original DataFrame and columns of X\n",
    "reshaped_developed = pd.DataFrame(scaler_model.inverse_transform(knn_inputer.transform(developed_rescaled)),\n",
    "                                index=developed.index,\n",
    "                                columns=X_developed.columns)\n",
    "\n",
    "# Adding the 'country' and 'life_expectancy' columns back in and assigning status\n",
    "reshaped_developed['country'] = developed['country']\n",
    "reshaped_developed['life_expectancy'] = developed['life_expectancy']\n",
    "reshaped_developed.assign(status='developed')\n",
    "\n",
    "reshaped_developed = reshaped_developed.reindex(sorted(reshaped_developed.columns), axis=1)\n",
    "reshaped_developed.isna().sum()"
   ]
  },
  {
   "cell_type": "markdown",
   "id": "a3572d86",
   "metadata": {},
   "source": [
    "Imputing the missing values for developing countries: (using a higher number of neighbors)"
   ]
  },
  {
   "cell_type": "code",
   "execution_count": 43,
   "id": "f8beb11a",
   "metadata": {
    "scrolled": false
   },
   "outputs": [
    {
     "data": {
      "text/plain": [
       "adult_mortality      0\n",
       "alcohol              0\n",
       "bmi                  0\n",
       "country              0\n",
       "diphtheria           0\n",
       "gdp                  0\n",
       "hep_b                0\n",
       "hiv_aids             0\n",
       "icr                  0\n",
       "life_expectancy      0\n",
       "per_expend           0\n",
       "polio                0\n",
       "schooling            0\n",
       "status               0\n",
       "thin_1-19_years      0\n",
       "thin_5-9_years       0\n",
       "total_expend         0\n",
       "under-five_deaths    0\n",
       "year                 0\n",
       "dtype: int64"
      ]
     },
     "execution_count": 43,
     "metadata": {},
     "output_type": "execute_result"
    }
   ],
   "source": [
    "# Creating a DataFrame of all the possible features we can use in our regression\n",
    "X_developing = developing.drop(columns=['country', 'life_expectancy'])\n",
    "\n",
    "# Standardizing the features\n",
    "scaler_model = StandardScaler()\n",
    "scaler_model.fit(X_developing)\n",
    "developing_rescaled = scaler_model.transform(X_developing)\n",
    "\n",
    "# Using KNN to impute missing values\n",
    "knn_inputer = KNNImputer(n_neighbors=30, weights='uniform', metric='nan_euclidean')\n",
    "knn_inputer.fit(developing_rescaled)\n",
    "knn_inputer.transform(developing_rescaled)\n",
    "\n",
    "# Unscaling the features that were scaled, aligning the index of the original DataFrame and columns of X\n",
    "reshaped_developing = pd.DataFrame(scaler_model.inverse_transform(knn_inputer.transform(developing_rescaled)),\n",
    "                                index=developing.index,\n",
    "                                columns=X_developing.columns)\n",
    "\n",
    "# Adding the 'country' and 'life_expectancy' columns back in and assigning status\n",
    "reshaped_developing['country'] = developing['country']\n",
    "reshaped_developing['life_expectancy'] = developing['life_expectancy']\n",
    "reshaped_developing.assign(status='developing')\n",
    "reshaped_developing = reshaped_developing.reindex(sorted(reshaped_developing.columns), axis=1)\n",
    "reshaped_developing.isna().sum()"
   ]
  },
  {
   "cell_type": "code",
   "execution_count": 44,
   "id": "eb616e03",
   "metadata": {
    "scrolled": false
   },
   "outputs": [
    {
     "data": {
      "text/plain": [
       "(2928, 19)"
      ]
     },
     "execution_count": 44,
     "metadata": {},
     "output_type": "execute_result"
    }
   ],
   "source": [
    "preprocessed_df.shape"
   ]
  },
  {
   "cell_type": "markdown",
   "id": "815fc8fd",
   "metadata": {},
   "source": [
    "Note: Our original preprocessed DataFrame has 2928 rows and 19 columns. After concatenating the reshaped_developed and reshaped_developing DataFrames, I want to ensure that the resulting DataFrame also has this shape."
   ]
  },
  {
   "cell_type": "code",
   "execution_count": 45,
   "id": "5433928f",
   "metadata": {},
   "outputs": [
    {
     "data": {
      "text/plain": [
       "(2928, 19)"
      ]
     },
     "execution_count": 45,
     "metadata": {},
     "output_type": "execute_result"
    }
   ],
   "source": [
    "all_filled = pd.concat([reshaped_developed, reshaped_developing])\n",
    "all_filled.shape"
   ]
  },
  {
   "cell_type": "code",
   "execution_count": 46,
   "id": "a84ec95c",
   "metadata": {
    "scrolled": false
   },
   "outputs": [
    {
     "data": {
      "text/html": [
       "<div>\n",
       "<style scoped>\n",
       "    .dataframe tbody tr th:only-of-type {\n",
       "        vertical-align: middle;\n",
       "    }\n",
       "\n",
       "    .dataframe tbody tr th {\n",
       "        vertical-align: top;\n",
       "    }\n",
       "\n",
       "    .dataframe thead th {\n",
       "        text-align: right;\n",
       "    }\n",
       "</style>\n",
       "<table border=\"1\" class=\"dataframe\">\n",
       "  <thead>\n",
       "    <tr style=\"text-align: right;\">\n",
       "      <th></th>\n",
       "      <th>adult_mortality</th>\n",
       "      <th>alcohol</th>\n",
       "      <th>bmi</th>\n",
       "      <th>country</th>\n",
       "      <th>diphtheria</th>\n",
       "      <th>gdp</th>\n",
       "      <th>hep_b</th>\n",
       "      <th>hiv_aids</th>\n",
       "      <th>icr</th>\n",
       "      <th>life_expectancy</th>\n",
       "      <th>per_expend</th>\n",
       "      <th>polio</th>\n",
       "      <th>schooling</th>\n",
       "      <th>status</th>\n",
       "      <th>thin_1-19_years</th>\n",
       "      <th>thin_5-9_years</th>\n",
       "      <th>total_expend</th>\n",
       "      <th>under-five_deaths</th>\n",
       "      <th>year</th>\n",
       "    </tr>\n",
       "  </thead>\n",
       "  <tbody>\n",
       "    <tr>\n",
       "      <th>112</th>\n",
       "      <td>59.0</td>\n",
       "      <td>10.21</td>\n",
       "      <td>66.6</td>\n",
       "      <td>Australia</td>\n",
       "      <td>93.0</td>\n",
       "      <td>56554.38760</td>\n",
       "      <td>93.0</td>\n",
       "      <td>0.1</td>\n",
       "      <td>0.937</td>\n",
       "      <td>82.8</td>\n",
       "      <td>10603.858678</td>\n",
       "      <td>93.0</td>\n",
       "      <td>20.4</td>\n",
       "      <td>0.0</td>\n",
       "      <td>0.6</td>\n",
       "      <td>0.6</td>\n",
       "      <td>9.30125</td>\n",
       "      <td>1.0</td>\n",
       "      <td>2015.0</td>\n",
       "    </tr>\n",
       "    <tr>\n",
       "      <th>113</th>\n",
       "      <td>6.0</td>\n",
       "      <td>9.71</td>\n",
       "      <td>66.1</td>\n",
       "      <td>Australia</td>\n",
       "      <td>92.0</td>\n",
       "      <td>62214.69120</td>\n",
       "      <td>91.0</td>\n",
       "      <td>0.1</td>\n",
       "      <td>0.936</td>\n",
       "      <td>82.7</td>\n",
       "      <td>10769.363050</td>\n",
       "      <td>92.0</td>\n",
       "      <td>20.4</td>\n",
       "      <td>0.0</td>\n",
       "      <td>0.6</td>\n",
       "      <td>0.6</td>\n",
       "      <td>9.42000</td>\n",
       "      <td>1.0</td>\n",
       "      <td>2014.0</td>\n",
       "    </tr>\n",
       "    <tr>\n",
       "      <th>114</th>\n",
       "      <td>61.0</td>\n",
       "      <td>9.87</td>\n",
       "      <td>65.5</td>\n",
       "      <td>Australia</td>\n",
       "      <td>91.0</td>\n",
       "      <td>67792.33860</td>\n",
       "      <td>91.0</td>\n",
       "      <td>0.1</td>\n",
       "      <td>0.933</td>\n",
       "      <td>82.5</td>\n",
       "      <td>11734.853810</td>\n",
       "      <td>91.0</td>\n",
       "      <td>20.3</td>\n",
       "      <td>0.0</td>\n",
       "      <td>0.6</td>\n",
       "      <td>0.6</td>\n",
       "      <td>9.36000</td>\n",
       "      <td>1.0</td>\n",
       "      <td>2013.0</td>\n",
       "    </tr>\n",
       "    <tr>\n",
       "      <th>115</th>\n",
       "      <td>61.0</td>\n",
       "      <td>10.03</td>\n",
       "      <td>65.0</td>\n",
       "      <td>Australia</td>\n",
       "      <td>92.0</td>\n",
       "      <td>67677.63477</td>\n",
       "      <td>91.0</td>\n",
       "      <td>0.1</td>\n",
       "      <td>0.930</td>\n",
       "      <td>82.3</td>\n",
       "      <td>11714.998580</td>\n",
       "      <td>92.0</td>\n",
       "      <td>20.1</td>\n",
       "      <td>0.0</td>\n",
       "      <td>0.6</td>\n",
       "      <td>0.6</td>\n",
       "      <td>9.36000</td>\n",
       "      <td>1.0</td>\n",
       "      <td>2012.0</td>\n",
       "    </tr>\n",
       "    <tr>\n",
       "      <th>116</th>\n",
       "      <td>63.0</td>\n",
       "      <td>10.30</td>\n",
       "      <td>64.4</td>\n",
       "      <td>Australia</td>\n",
       "      <td>92.0</td>\n",
       "      <td>62245.12900</td>\n",
       "      <td>92.0</td>\n",
       "      <td>0.1</td>\n",
       "      <td>0.927</td>\n",
       "      <td>82.0</td>\n",
       "      <td>10986.265270</td>\n",
       "      <td>92.0</td>\n",
       "      <td>19.8</td>\n",
       "      <td>0.0</td>\n",
       "      <td>0.6</td>\n",
       "      <td>0.6</td>\n",
       "      <td>9.20000</td>\n",
       "      <td>1.0</td>\n",
       "      <td>2011.0</td>\n",
       "    </tr>\n",
       "  </tbody>\n",
       "</table>\n",
       "</div>"
      ],
      "text/plain": [
       "     adult_mortality  alcohol   bmi    country  diphtheria          gdp  \\\n",
       "112             59.0    10.21  66.6  Australia        93.0  56554.38760   \n",
       "113              6.0     9.71  66.1  Australia        92.0  62214.69120   \n",
       "114             61.0     9.87  65.5  Australia        91.0  67792.33860   \n",
       "115             61.0    10.03  65.0  Australia        92.0  67677.63477   \n",
       "116             63.0    10.30  64.4  Australia        92.0  62245.12900   \n",
       "\n",
       "     hep_b  hiv_aids    icr  life_expectancy    per_expend  polio  schooling  \\\n",
       "112   93.0       0.1  0.937             82.8  10603.858678   93.0       20.4   \n",
       "113   91.0       0.1  0.936             82.7  10769.363050   92.0       20.4   \n",
       "114   91.0       0.1  0.933             82.5  11734.853810   91.0       20.3   \n",
       "115   91.0       0.1  0.930             82.3  11714.998580   92.0       20.1   \n",
       "116   92.0       0.1  0.927             82.0  10986.265270   92.0       19.8   \n",
       "\n",
       "     status  thin_1-19_years  thin_5-9_years  total_expend  under-five_deaths  \\\n",
       "112     0.0              0.6             0.6       9.30125                1.0   \n",
       "113     0.0              0.6             0.6       9.42000                1.0   \n",
       "114     0.0              0.6             0.6       9.36000                1.0   \n",
       "115     0.0              0.6             0.6       9.36000                1.0   \n",
       "116     0.0              0.6             0.6       9.20000                1.0   \n",
       "\n",
       "       year  \n",
       "112  2015.0  \n",
       "113  2014.0  \n",
       "114  2013.0  \n",
       "115  2012.0  \n",
       "116  2011.0  "
      ]
     },
     "execution_count": 46,
     "metadata": {},
     "output_type": "execute_result"
    }
   ],
   "source": [
    "all_filled.head()"
   ]
  },
  {
   "cell_type": "markdown",
   "id": "04690ebc",
   "metadata": {},
   "source": [
    "## Part 3: Implementing PCA and building the linear regression model."
   ]
  },
  {
   "cell_type": "markdown",
   "id": "2514609d",
   "metadata": {},
   "source": [
    "The correlations with all the columns to 'life_expectancy' are now much higher!"
   ]
  },
  {
   "cell_type": "code",
   "execution_count": 47,
   "id": "3ee0cbfa",
   "metadata": {
    "scrolled": false
   },
   "outputs": [
    {
     "data": {
      "text/plain": [
       "life_expectancy      1.000000\n",
       "icr                  0.891189\n",
       "schooling            0.792948\n",
       "adult_mortality      0.696359\n",
       "bmi                  0.572068\n",
       "hiv_aids             0.556556\n",
       "diphtheria           0.482377\n",
       "status               0.482136\n",
       "thin_1-19_years      0.479617\n",
       "thin_5-9_years       0.473476\n",
       "polio                0.468322\n",
       "gdp                  0.463992\n",
       "per_expend           0.426644\n",
       "alcohol              0.413757\n",
       "hep_b                0.344908\n",
       "total_expend         0.233715\n",
       "under-five_deaths    0.222529\n",
       "year                 0.170033\n",
       "dtype: float64"
      ]
     },
     "execution_count": 47,
     "metadata": {},
     "output_type": "execute_result"
    }
   ],
   "source": [
    "all_filled.corrwith(all_filled['life_expectancy']).abs().sort_values(ascending=False)"
   ]
  },
  {
   "cell_type": "markdown",
   "id": "216572ea",
   "metadata": {},
   "source": [
    "Implementing PCA..."
   ]
  },
  {
   "cell_type": "code",
   "execution_count": 48,
   "id": "7ff89e37",
   "metadata": {
    "scrolled": true
   },
   "outputs": [
    {
     "data": {
      "text/plain": [
       "4    0.055726\n",
       "0    0.051319\n",
       "5    0.046869\n",
       "3    0.031726\n",
       "2    0.021929\n",
       "1    0.011016\n",
       "dtype: float64"
      ]
     },
     "execution_count": 48,
     "metadata": {},
     "output_type": "execute_result"
    }
   ],
   "source": [
    "X = all_filled.loc[:, ['schooling', 'icr', 'adult_mortality', 'bmi', 'hiv_aids', 'status']]\n",
    "\n",
    "y = np.array(all_filled.loc[:, ['life_expectancy']])\n",
    "\n",
    "pca_model = PCA()\n",
    "pca_model.fit(X)\n",
    "X = pca_model.transform(X)\n",
    "\n",
    "pd.DataFrame(X).corrwith(other=all_filled['life_expectancy']).abs().sort_values(ascending=False)"
   ]
  },
  {
   "cell_type": "markdown",
   "id": "6d0eb05f",
   "metadata": {},
   "source": [
    "Training the model..."
   ]
  },
  {
   "cell_type": "code",
   "execution_count": 49,
   "id": "82a035ad",
   "metadata": {},
   "outputs": [
    {
     "name": "stdout",
     "output_type": "stream",
     "text": [
      "R^2: 0.8732863558311253 \n",
      "RMSE: 3.3896187993432263\n"
     ]
    }
   ],
   "source": [
    "# Defining feature and target\n",
    "X = all_filled.loc[:, ['schooling', 'icr', 'adult_mortality', 'bmi', 'hiv_aids', 'status']]\n",
    "y = np.array(all_filled.loc[:, ['life_expectancy']])\n",
    "\n",
    "# Utilizing PCA for feature engineering\n",
    "pca_model = PCA()\n",
    "pca_model.fit(X)\n",
    "X = pca_model.transform(X)\n",
    "\n",
    "selected_components = [4, 0, 5, 3, 2, 1]\n",
    "\n",
    "# Building a linear regression model \n",
    "lm_model = LinearRegression()\n",
    "lm_model.fit(X[:, selected_components], y=y)\n",
    "y_pred = lm_model.predict(X=X[:, selected_components])\n",
    "\n",
    "# Calculating the residuals (actual value - predicted value)\n",
    "residuals = (y - y_pred)\n",
    "\n",
    "RMSE = residuals.std() # Root Mean Square Error\n",
    "R2 = lm_model.score(X=X[:, selected_components], y=y) # coefficient of determination R^2\n",
    "\n",
    "print('R^2:', R2, '\\nRMSE:', RMSE)"
   ]
  },
  {
   "cell_type": "markdown",
   "id": "13fde991",
   "metadata": {},
   "source": [
    "The R squared and RMSE indicate that the model improved by a lot a good amount from the linear regression + PCA model in Section IV."
   ]
  },
  {
   "cell_type": "code",
   "execution_count": 50,
   "id": "79c31029",
   "metadata": {},
   "outputs": [
    {
     "name": "stdout",
     "output_type": "stream",
     "text": [
      "train_R^2: 0.8384498024691622\n",
      "test_R^2: 0.8357635507940097\n",
      "RMSE: 3.4055134038226815\n"
     ]
    }
   ],
   "source": [
    "# Defining feature and target\n",
    "X = all_filled.loc[:, ['schooling', 'icr', 'adult_mortality', 'bmi', 'hiv_aids', 'status']]\n",
    "y = all_filled.loc[:, ['life_expectancy']]\n",
    "\n",
    "# Splitting the data into training and testing datasets.\n",
    "X_train, X_test, y_train, y_test = train_test_split(X, y, test_size=0.3, random_state=145)\n",
    "\n",
    "# Running a k-fold cross-validation\n",
    "cv = RepeatedKFold(n_splits=5, random_state=12345, n_repeats=100)\n",
    "splitting = cv.split(X=X_train, y=y_train)\n",
    "\n",
    "RMSEs = []\n",
    "train_r2 = []\n",
    "test_r2 = []\n",
    "\n",
    "for train_index, test_index in splitting:\n",
    "    \n",
    "    X_subtraining = X_train.iloc[train_index, :].copy()\n",
    "    X_subtesting = X_train.iloc[test_index, :].copy()\n",
    "    \n",
    "    # Utilizing PCA for feature engineering\n",
    "    pca_model = PCA()\n",
    "    pca_model.fit(X_subtraining)\n",
    "    X_subtraining = pca_model.transform(X_subtraining)\n",
    "\n",
    "    # Transforming the values in the subtesting dataset\n",
    "    X_subtesting = pca_model.transform(X_subtesting)\n",
    "    \n",
    "    selected_components = [4, 0, 5, 3, 2, 1]\n",
    "    \n",
    "    # Building a linear regression model\n",
    "    lm_model = LinearRegression()\n",
    "    lm_model.fit(X=X_subtraining[:, selected_components], y=np.array(y_train.iloc[train_index]))\n",
    "    y_true = np.array(y_train.iloc[test_index, :])\n",
    "    y_pred = lm_model.predict(X=X_subtesting[:, selected_components])\n",
    "    \n",
    "    train_r2_score = lm_model.score(X=X_subtraining[:, selected_components], y=np.array(y_train.iloc[train_index]['life_expectancy']))\n",
    "    test_r2_score = lm_model.score(X=X_subtesting[:, selected_components], y=y_true)\n",
    "    RMSE = mean_squared_error(y_true=y_true, y_pred=y_pred, squared=False)\n",
    "    \n",
    "    RMSEs.append(RMSE)\n",
    "    train_r2_scores.append(train_r2_score)\n",
    "    test_r2_scores.append(test_r2_score)\n",
    "\n",
    "print(f\"train_R^2: {np.mean(train_r2_scores)}\\ntest_R^2: {np.mean(test_r2_scores)}\\nRMSE: {np.mean(RMSEs)}\")"
   ]
  },
  {
   "cell_type": "markdown",
   "id": "38b11347",
   "metadata": {},
   "source": [
    "The R squared values and RMSE from the cross validation are a bit different from the results in the regression above it, but they are still an improvement from the model that was built in Section IV. "
   ]
  },
  {
   "cell_type": "code",
   "execution_count": 51,
   "id": "399e2b6b",
   "metadata": {},
   "outputs": [
    {
     "name": "stdout",
     "output_type": "stream",
     "text": [
      "R^2: 0.8761703249856264\n",
      "RMSE: 3.3951683705355933\n"
     ]
    },
    {
     "data": {
      "image/png": "[encoded data removed]",
      "text/plain": [
       "<Figure size 700x200 with 1 Axes>"
      ]
     },
     "metadata": {},
     "output_type": "display_data"
    }
   ],
   "source": [
    "# Defining feature and target\n",
    "X = all_filled.loc[:, ['schooling', 'icr', 'adult_mortality', 'bmi', 'hiv_aids', 'status']]\n",
    "y = all_filled.loc[:, ['life_expectancy']]\n",
    "\n",
    "# Splitting the data into training and testing datasets\n",
    "X_train, X_test, y_train, y_test = train_test_split(X, y, test_size=0.6, random_state=145)\n",
    "\n",
    "# Fitting the PCA model\n",
    "pca_model = PCA()\n",
    "pca_model.fit(X_train)\n",
    "X_train_reduced = pca_model.transform(X_train)\n",
    "\n",
    "# Transforming the values in the test set\n",
    "X_test_reduced = pca_model.transform(X_test)\n",
    "\n",
    "selected_components = [4, 0, 5, 3, 2, 1]\n",
    "\n",
    "lm_model = LinearRegression()\n",
    "lm_model.fit(X=X_train_reduced[:, selected_components], y=np.array(y_train))\n",
    "y_pred = lm_model.predict(X=X_test_reduced[:, selected_components])\n",
    "y_true = np.array(y_test)\n",
    "\n",
    "residuals = y_true - y_pred\n",
    "train_r2_score = lm_model.score(X=X_train_reduced[:, selected_components], y=np.array(y_train))\n",
    "test_r2_score = lm_model.score(X=X_test_reduced[:, selected_components], y=y_true)\n",
    "RMSE = mean_squared_error(y_true=y_true, y_pred=y_pred, squared=False)\n",
    "\n",
    "print(f\"R^2: {test_r2_score}\\nRMSE: {RMSE}\")\n",
    "\n",
    "plt.rcParams[\"figure.figsize\"] = [7, 2]\n",
    "plt.rcParams[\"figure.autolayout\"] = True\n",
    "sns.kdeplot(data=residuals, color='blue', fill=True, alpha=0.2, legend=False);\n",
    "sns.kdeplot(x=np.random.normal(scale=RMSE, size=100000), fill=True, alpha=0.2, color='purple');"
   ]
  },
  {
   "cell_type": "markdown",
   "id": "69435b4a",
   "metadata": {},
   "source": [
    "The distribution of the residuals are much closer to a normal distribution here. The R squared value and RMSE also look good, which reflects that the model has indeed improved!"
   ]
  }
 ],
 "metadata": {
  "kernelspec": {
   "display_name": "Python 3 (ipykernel)",
   "language": "python",
   "name": "python3"
  },
  "language_info": {
   "codemirror_mode": {
    "name": "ipython",
    "version": 3
   },
   "file_extension": ".py",
   "mimetype": "text/x-python",
   "name": "python",
   "nbconvert_exporter": "python",
   "pygments_lexer": "ipython3",
   "version": "3.9.13"
  }
 },
 "nbformat": 4,
 "nbformat_minor": 5
}
